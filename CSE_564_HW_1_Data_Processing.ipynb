{
  "nbformat": 4,
  "nbformat_minor": 0,
  "metadata": {
    "colab": {
      "name": "CSE 564 - HW 1 - Data Processing.ipynb",
      "provenance": [],
      "collapsed_sections": [],
      "toc_visible": true
    },
    "kernelspec": {
      "name": "python3",
      "display_name": "Python 3"
    },
    "accelerator": "GPU"
  },
  "cells": [
    {
      "cell_type": "markdown",
      "metadata": {
        "id": "raa8kIdw7hBy",
        "colab_type": "text"
      },
      "source": [
        "## **Import Libraries**"
      ]
    },
    {
      "cell_type": "code",
      "metadata": {
        "id": "w-Q0AX4K1Gjp",
        "colab_type": "code",
        "colab": {}
      },
      "source": [
        "# Upload Data from Google Drive\n",
        "from google.colab import drive\n",
        "\n",
        "# Store Data in Pandas Dataframe\n",
        "import pandas as pd\n",
        "\n",
        "# Numerical functions\n",
        "import numpy as np"
      ],
      "execution_count": 0,
      "outputs": []
    },
    {
      "cell_type": "code",
      "metadata": {
        "id": "gvZlepEdHhdv",
        "colab_type": "code",
        "colab": {}
      },
      "source": [
        "# Visualization\n",
        "import seaborn as sns\n",
        "import matplotlib.pyplot as plt\n",
        "tips = sns.load_dataset(\"tips\")\n",
        "sns.set(style='whitegrid', palette=\"deep\", font_scale=1.1)"
      ],
      "execution_count": 0,
      "outputs": []
    },
    {
      "cell_type": "markdown",
      "metadata": {
        "id": "KQ4K6Jro7k-H",
        "colab_type": "text"
      },
      "source": [
        "## **Mount Data**"
      ]
    },
    {
      "cell_type": "code",
      "metadata": {
        "id": "Cvu0KY_L7nOW",
        "colab_type": "code",
        "outputId": "5777e2c8-038e-4ef8-f1bb-471c813550bf",
        "colab": {
          "base_uri": "https://localhost:8080/",
          "height": 125
        }
      },
      "source": [
        "### From Google Drive\n",
        "\n",
        "# Mount drive at location\n",
        "drive.mount('/content/drive')"
      ],
      "execution_count": 3,
      "outputs": [
        {
          "output_type": "stream",
          "text": [
            "Go to this URL in a browser: https://accounts.google.com/o/oauth2/auth?client_id=947318989803-6bn6qk8qdgf4n4g3pfee6491hc0brc4i.apps.googleusercontent.com&redirect_uri=urn%3aietf%3awg%3aoauth%3a2.0%3aoob&response_type=code&scope=email%20https%3a%2f%2fwww.googleapis.com%2fauth%2fdocs.test%20https%3a%2f%2fwww.googleapis.com%2fauth%2fdrive%20https%3a%2f%2fwww.googleapis.com%2fauth%2fdrive.photos.readonly%20https%3a%2f%2fwww.googleapis.com%2fauth%2fpeopleapi.readonly\n",
            "\n",
            "Enter your authorization code:\n",
            "··········\n",
            "Mounted at /content/drive\n"
          ],
          "name": "stdout"
        }
      ]
    },
    {
      "cell_type": "code",
      "metadata": {
        "id": "8l_GF6cf7pE9",
        "colab_type": "code",
        "colab": {}
      },
      "source": [
        "# Read CSV and store in Pandas Dataframe\n",
        "\n",
        "# Common\n",
        "df_country_region = pd.read_csv(\"/content/drive/My Drive/Coursework/Spring 2020/CSE 564 - Visualization/Assignments/Lab 1/Datasets/countries-region-modified.csv\")\n",
        "df_pop_density = pd.read_csv(\"/content/drive/My Drive/Coursework/Spring 2020/CSE 564 - Visualization/Assignments/Lab 1/Datasets/population_density_per_square_km.csv\")"
      ],
      "execution_count": 0,
      "outputs": []
    },
    {
      "cell_type": "code",
      "metadata": {
        "id": "WPX7j9vc9onH",
        "colab_type": "code",
        "colab": {}
      },
      "source": [
        "# Health\n",
        "df_exp_govt = pd.read_csv(\"/content/drive/My Drive/Coursework/Spring 2020/CSE 564 - Visualization/Assignments/Lab 1/Datasets/Health/government_share_of_total_health_spending_percent.csv\")\n",
        "df_exp_pvt  = pd.read_csv(\"/content/drive/My Drive/Coursework/Spring 2020/CSE 564 - Visualization/Assignments/Lab 1/Datasets/Health/private_share_of_total_health_spending_percent.csv\")\n",
        "df_exp_indv  = pd.read_csv(\"/content/drive/My Drive/Coursework/Spring 2020/CSE 564 - Visualization/Assignments/Lab 1/Datasets/Health/out-of-pocket health exp.csv\")\n",
        "df_life_expectancy_m  = pd.read_csv(\"/content/drive/My Drive/Coursework/Spring 2020/CSE 564 - Visualization/Assignments/Lab 1/Datasets/Health/life_expectancy_male.csv\")\n",
        "df_life_expectancy_f  = pd.read_csv(\"/content/drive/My Drive/Coursework/Spring 2020/CSE 564 - Visualization/Assignments/Lab 1/Datasets/Health/life_expectancy_female.csv\")"
      ],
      "execution_count": 0,
      "outputs": []
    },
    {
      "cell_type": "code",
      "metadata": {
        "id": "HnuE5faU9qsh",
        "colab_type": "code",
        "colab": {}
      },
      "source": [
        "# Education\n",
        "df_edu_exp  = pd.read_csv(\"/content/drive/My Drive/Coursework/Spring 2020/CSE 564 - Visualization/Assignments/Lab 1/Datasets/Education/Expenditure on Education (% of GNI).csv\")\n",
        "df_mean_years_edu_m  = pd.read_csv(\"/content/drive/My Drive/Coursework/Spring 2020/CSE 564 - Visualization/Assignments/Lab 1/Datasets/Education/mean_years_in_school_men_15_to_24_years.csv\")\n",
        "df_mean_years_edu_f  = pd.read_csv(\"/content/drive/My Drive/Coursework/Spring 2020/CSE 564 - Visualization/Assignments/Lab 1/Datasets/Education/mean_years_in_school_women_15_to_24_years.csv\")"
      ],
      "execution_count": 0,
      "outputs": []
    },
    {
      "cell_type": "code",
      "metadata": {
        "id": "ieXP_36W9r_z",
        "colab_type": "code",
        "colab": {}
      },
      "source": [
        "# Economy\n",
        "df_avg_income  = pd.read_csv(\"/content/drive/My Drive/Coursework/Spring 2020/CSE 564 - Visualization/Assignments/Lab 1/Datasets/Economy/income_per_person_gdppercapita_ppp_inflation_adjusted.csv\")\n",
        "df_income_inequality  = pd.read_csv(\"/content/drive/My Drive/Coursework/Spring 2020/CSE 564 - Visualization/Assignments/Lab 1/Datasets/Economy/income inequaltiy - gini coefficient.csv\")\n",
        "df_employment_rate_m  = pd.read_csv(\"/content/drive/My Drive/Coursework/Spring 2020/CSE 564 - Visualization/Assignments/Lab 1/Datasets/Economy/males_aged_15plus_employment_rate_percent.csv\")\n",
        "df_employment_rate_f  = pd.read_csv(\"/content/drive/My Drive/Coursework/Spring 2020/CSE 564 - Visualization/Assignments/Lab 1/Datasets/Economy/females_aged_15plus_employment_rate_percent.csv\")"
      ],
      "execution_count": 0,
      "outputs": []
    },
    {
      "cell_type": "code",
      "metadata": {
        "id": "tpxnooke9tQd",
        "colab_type": "code",
        "colab": {}
      },
      "source": [
        "# Deaths\n",
        "df_child_mortality  = pd.read_csv(\"/content/drive/My Drive/Coursework/Spring 2020/CSE 564 - Visualization/Assignments/Lab 1/Datasets/Deaths/child_mortality_0_5_year_olds_dying_per_1000_born.csv\")\n",
        "df_adult_mortality_m  = pd.read_csv(\"/content/drive/My Drive/Coursework/Spring 2020/CSE 564 - Visualization/Assignments/Lab 1/Datasets/Deaths/adult_mortality_rate_male.csv\")\n",
        "df_adult_mortality_f  = pd.read_csv(\"/content/drive/My Drive/Coursework/Spring 2020/CSE 564 - Visualization/Assignments/Lab 1/Datasets/Deaths/adult_mortality_rate_female.csv\")\n",
        "df_suicides  = pd.read_csv(\"/content/drive/My Drive/Coursework/Spring 2020/CSE 564 - Visualization/Assignments/Lab 1/Datasets/Deaths/suicide_total_deaths.csv\")\n",
        "df_murders  = pd.read_csv(\"/content/drive/My Drive/Coursework/Spring 2020/CSE 564 - Visualization/Assignments/Lab 1/Datasets/Deaths/murder_total_deaths.csv\")"
      ],
      "execution_count": 0,
      "outputs": []
    },
    {
      "cell_type": "code",
      "metadata": {
        "id": "1EcVOMa19uOw",
        "colab_type": "code",
        "colab": {}
      },
      "source": [
        "# Society\n",
        "df_military_exp  = pd.read_csv(\"/content/drive/My Drive/Coursework/Spring 2020/CSE 564 - Visualization/Assignments/Lab 1/Datasets/Society/military_expenditure_percent_of_gdp.csv\")\n",
        "df_corruption_perception  = pd.read_csv(\"/content/drive/My Drive/Coursework/Spring 2020/CSE 564 - Visualization/Assignments/Lab 1/Datasets/Society/corruption_perception_index_cpi.csv\")"
      ],
      "execution_count": 0,
      "outputs": []
    },
    {
      "cell_type": "markdown",
      "metadata": {
        "id": "1RduOlFTzeaC",
        "colab_type": "text"
      },
      "source": [
        "## **Cleaning Individual Datasets**"
      ]
    },
    {
      "cell_type": "markdown",
      "metadata": {
        "id": "7tZeJNh2Tm8r",
        "colab_type": "text"
      },
      "source": [
        "### **Country Region**"
      ]
    },
    {
      "cell_type": "code",
      "metadata": {
        "id": "n31I6ScWRiP-",
        "colab_type": "code",
        "colab": {}
      },
      "source": [
        "# Remove extra white spaces\n",
        "df_country_region['Country'] = df_country_region['Country'].str.strip()"
      ],
      "execution_count": 0,
      "outputs": []
    },
    {
      "cell_type": "markdown",
      "metadata": {
        "id": "L5PKoOwd4D3n",
        "colab_type": "text"
      },
      "source": [
        "### **Population Density**"
      ]
    },
    {
      "cell_type": "code",
      "metadata": {
        "id": "B5_CmwZg8Lju",
        "colab_type": "code",
        "outputId": "327bc840-1d08-4d14-e105-017ea48b91ba",
        "colab": {
          "base_uri": "https://localhost:8080/",
          "height": 228
        }
      },
      "source": [
        "# Check for missing values\n",
        "df_pop_density.isna().sum()"
      ],
      "execution_count": 11,
      "outputs": [
        {
          "output_type": "execute_result",
          "data": {
            "text/plain": [
              "country    0\n",
              "1950       0\n",
              "1951       0\n",
              "1952       0\n",
              "1953       0\n",
              "          ..\n",
              "2096       0\n",
              "2097       0\n",
              "2098       0\n",
              "2099       0\n",
              "2100       0\n",
              "Length: 152, dtype: int64"
            ]
          },
          "metadata": {
            "tags": []
          },
          "execution_count": 11
        }
      ]
    },
    {
      "cell_type": "markdown",
      "metadata": {
        "id": "nxRDctU84QSI",
        "colab_type": "text"
      },
      "source": [
        "### **Percentage of Health Expenditure - by Govt**"
      ]
    },
    {
      "cell_type": "code",
      "metadata": {
        "id": "SMkd7l5X8Oh2",
        "colab_type": "code",
        "outputId": "adabc1d6-3fed-4a28-96a8-f6659ea7542f",
        "colab": {
          "base_uri": "https://localhost:8080/",
          "height": 334
        }
      },
      "source": [
        "# Check for missing values\n",
        "df_exp_govt.isna().sum()"
      ],
      "execution_count": 12,
      "outputs": [
        {
          "output_type": "execute_result",
          "data": {
            "text/plain": [
              "country    0\n",
              "1995       3\n",
              "1996       2\n",
              "1997       2\n",
              "1998       1\n",
              "1999       1\n",
              "2000       1\n",
              "2001       1\n",
              "2002       2\n",
              "2003       2\n",
              "2004       2\n",
              "2005       2\n",
              "2006       2\n",
              "2007       2\n",
              "2008       2\n",
              "2009       2\n",
              "2010       5\n",
              "dtype: int64"
            ]
          },
          "metadata": {
            "tags": []
          },
          "execution_count": 12
        }
      ]
    },
    {
      "cell_type": "code",
      "metadata": {
        "id": "axtJxEl68Tne",
        "colab_type": "code",
        "outputId": "c67270d8-f35b-47f3-bf32-b8c0a4d78ebb",
        "colab": {
          "base_uri": "https://localhost:8080/",
          "height": 334
        }
      },
      "source": [
        "# Back-fill and Forward-fill missing values in all rows\n",
        "df_exp_govt =  df_exp_govt.bfill(axis=1).ffill(axis=1)\n",
        "\n",
        "# Test for missing values\n",
        "df_exp_pvt.isna().sum()"
      ],
      "execution_count": 13,
      "outputs": [
        {
          "output_type": "execute_result",
          "data": {
            "text/plain": [
              "country    0\n",
              "1995       3\n",
              "1996       2\n",
              "1997       2\n",
              "1998       1\n",
              "1999       1\n",
              "2000       1\n",
              "2001       1\n",
              "2002       2\n",
              "2003       2\n",
              "2004       2\n",
              "2005       2\n",
              "2006       2\n",
              "2007       2\n",
              "2008       2\n",
              "2009       2\n",
              "2010       5\n",
              "dtype: int64"
            ]
          },
          "metadata": {
            "tags": []
          },
          "execution_count": 13
        }
      ]
    },
    {
      "cell_type": "markdown",
      "metadata": {
        "id": "3C0T3N254Qdt",
        "colab_type": "text"
      },
      "source": [
        "### **Percentage of Health Expenditure - by Pvt Firms**"
      ]
    },
    {
      "cell_type": "code",
      "metadata": {
        "id": "LlYBjvlIzkoe",
        "colab_type": "code",
        "outputId": "373d6c39-b453-4b3e-a9ff-cac9faacb18a",
        "colab": {
          "base_uri": "https://localhost:8080/",
          "height": 334
        }
      },
      "source": [
        "# Check for missing values\n",
        "df_exp_pvt.isna().sum()"
      ],
      "execution_count": 14,
      "outputs": [
        {
          "output_type": "execute_result",
          "data": {
            "text/plain": [
              "country    0\n",
              "1995       3\n",
              "1996       2\n",
              "1997       2\n",
              "1998       1\n",
              "1999       1\n",
              "2000       1\n",
              "2001       1\n",
              "2002       2\n",
              "2003       2\n",
              "2004       2\n",
              "2005       2\n",
              "2006       2\n",
              "2007       2\n",
              "2008       2\n",
              "2009       2\n",
              "2010       5\n",
              "dtype: int64"
            ]
          },
          "metadata": {
            "tags": []
          },
          "execution_count": 14
        }
      ]
    },
    {
      "cell_type": "code",
      "metadata": {
        "id": "tmWMbJMy7IHG",
        "colab_type": "code",
        "outputId": "82623fa5-56df-40f9-ffea-6747b3f4ca82",
        "colab": {
          "base_uri": "https://localhost:8080/",
          "height": 334
        }
      },
      "source": [
        "# Back-fill and Forward-fill missing values in all rows\n",
        "df_exp_pvt =  df_exp_pvt.bfill(axis=1).ffill(axis=1)\n",
        "\n",
        "# Test for missing values\n",
        "df_exp_pvt.isna().sum()"
      ],
      "execution_count": 15,
      "outputs": [
        {
          "output_type": "execute_result",
          "data": {
            "text/plain": [
              "country    0\n",
              "1995       0\n",
              "1996       0\n",
              "1997       0\n",
              "1998       0\n",
              "1999       0\n",
              "2000       0\n",
              "2001       0\n",
              "2002       0\n",
              "2003       0\n",
              "2004       0\n",
              "2005       0\n",
              "2006       0\n",
              "2007       0\n",
              "2008       0\n",
              "2009       0\n",
              "2010       0\n",
              "dtype: int64"
            ]
          },
          "metadata": {
            "tags": []
          },
          "execution_count": 15
        }
      ]
    },
    {
      "cell_type": "markdown",
      "metadata": {
        "id": "aVm0_ve24QjK",
        "colab_type": "text"
      },
      "source": [
        "### **Percentage of Health Expenditure - out of Individualv Pocket**"
      ]
    },
    {
      "cell_type": "code",
      "metadata": {
        "id": "ZrlHIhuZ8hz2",
        "colab_type": "code",
        "outputId": "f4c70f50-f0a0-4886-9e82-51fc20ef844c",
        "colab": {
          "base_uri": "https://localhost:8080/",
          "height": 351
        }
      },
      "source": [
        "# Check for missing values\n",
        "df_exp_indv.isna().sum()"
      ],
      "execution_count": 16,
      "outputs": [
        {
          "output_type": "execute_result",
          "data": {
            "text/plain": [
              "country    0\n",
              "2000       7\n",
              "2001       7\n",
              "2002       5\n",
              "2003       3\n",
              "2004       3\n",
              "2005       3\n",
              "2006       3\n",
              "2007       3\n",
              "2008       2\n",
              "2009       2\n",
              "2010       1\n",
              "2011       1\n",
              "2012       2\n",
              "2013       3\n",
              "2014       3\n",
              "2015       3\n",
              "2016       3\n",
              "dtype: int64"
            ]
          },
          "metadata": {
            "tags": []
          },
          "execution_count": 16
        }
      ]
    },
    {
      "cell_type": "code",
      "metadata": {
        "id": "9OzNY90s8h_D",
        "colab_type": "code",
        "outputId": "b86dc883-138e-4f78-f283-cb4057746f08",
        "colab": {
          "base_uri": "https://localhost:8080/",
          "height": 351
        }
      },
      "source": [
        "# Back-fill and Forward-fill missing values in all rows\n",
        "df_exp_indv =  df_exp_indv.bfill(axis=1).ffill(axis=1)\n",
        "\n",
        "# Test for missing values\n",
        "df_exp_indv.isna().sum()"
      ],
      "execution_count": 17,
      "outputs": [
        {
          "output_type": "execute_result",
          "data": {
            "text/plain": [
              "country    0\n",
              "2000       0\n",
              "2001       0\n",
              "2002       0\n",
              "2003       0\n",
              "2004       0\n",
              "2005       0\n",
              "2006       0\n",
              "2007       0\n",
              "2008       0\n",
              "2009       0\n",
              "2010       0\n",
              "2011       0\n",
              "2012       0\n",
              "2013       0\n",
              "2014       0\n",
              "2015       0\n",
              "2016       0\n",
              "dtype: int64"
            ]
          },
          "metadata": {
            "tags": []
          },
          "execution_count": 17
        }
      ]
    },
    {
      "cell_type": "markdown",
      "metadata": {
        "id": "s85QSQFe4QoT",
        "colab_type": "text"
      },
      "source": [
        "### **Life Expectancy**"
      ]
    },
    {
      "cell_type": "code",
      "metadata": {
        "id": "54HsXwAL8sRn",
        "colab_type": "code",
        "outputId": "4a17fb94-72f1-4f76-c3fa-15c83a2497af",
        "colab": {
          "base_uri": "https://localhost:8080/",
          "height": 228
        }
      },
      "source": [
        "# Male\n",
        "\n",
        "# Check for missing values\n",
        "df_life_expectancy_m.isna().sum()"
      ],
      "execution_count": 18,
      "outputs": [
        {
          "output_type": "execute_result",
          "data": {
            "text/plain": [
              "country    0\n",
              "1950       0\n",
              "1951       0\n",
              "1952       0\n",
              "1953       0\n",
              "          ..\n",
              "2095       0\n",
              "2096       0\n",
              "2097       0\n",
              "2098       0\n",
              "2099       0\n",
              "Length: 151, dtype: int64"
            ]
          },
          "metadata": {
            "tags": []
          },
          "execution_count": 18
        }
      ]
    },
    {
      "cell_type": "code",
      "metadata": {
        "id": "l8jWZoqC8x0L",
        "colab_type": "code",
        "outputId": "704c1df3-5762-4a9f-9ffd-ed285b7288fa",
        "colab": {
          "base_uri": "https://localhost:8080/",
          "height": 228
        }
      },
      "source": [
        "# Female\n",
        "\n",
        "# Check for missing values\n",
        "df_life_expectancy_f.isna().sum()"
      ],
      "execution_count": 19,
      "outputs": [
        {
          "output_type": "execute_result",
          "data": {
            "text/plain": [
              "country    0\n",
              "1950       0\n",
              "1951       0\n",
              "1952       0\n",
              "1953       0\n",
              "          ..\n",
              "2095       0\n",
              "2096       0\n",
              "2097       0\n",
              "2098       0\n",
              "2099       0\n",
              "Length: 151, dtype: int64"
            ]
          },
          "metadata": {
            "tags": []
          },
          "execution_count": 19
        }
      ]
    },
    {
      "cell_type": "markdown",
      "metadata": {
        "id": "Vjslg35B4Qr_",
        "colab_type": "text"
      },
      "source": [
        "### **Education Expenditure**"
      ]
    },
    {
      "cell_type": "code",
      "metadata": {
        "id": "nn7tOc7J83qC",
        "colab_type": "code",
        "outputId": "0642dba8-2596-4a7b-f55a-d92003b356ef",
        "colab": {
          "base_uri": "https://localhost:8080/",
          "height": 897
        }
      },
      "source": [
        "# Check for missing values\n",
        "df_edu_exp.isna().sum()"
      ],
      "execution_count": 20,
      "outputs": [
        {
          "output_type": "execute_result",
          "data": {
            "text/plain": [
              "country    0\n",
              "1970       0\n",
              "1971       0\n",
              "1972       0\n",
              "1973       0\n",
              "1974       0\n",
              "1975       0\n",
              "1976       0\n",
              "1977       0\n",
              "1978       0\n",
              "1979       0\n",
              "1980       0\n",
              "1981       0\n",
              "1982       0\n",
              "1983       0\n",
              "1984       0\n",
              "1985       0\n",
              "1986       0\n",
              "1987       0\n",
              "1988       0\n",
              "1989       0\n",
              "1990       0\n",
              "1991       0\n",
              "1992       0\n",
              "1993       0\n",
              "1994       0\n",
              "1995       0\n",
              "1996       0\n",
              "1997       0\n",
              "1998       0\n",
              "1999       0\n",
              "2000       0\n",
              "2001       0\n",
              "2002       0\n",
              "2003       0\n",
              "2004       0\n",
              "2005       0\n",
              "2006       0\n",
              "2007       0\n",
              "2008       0\n",
              "2009       0\n",
              "2010       0\n",
              "2011       0\n",
              "2012       0\n",
              "2013       0\n",
              "2014       0\n",
              "2015       0\n",
              "2016       0\n",
              "2017       0\n",
              "dtype: int64"
            ]
          },
          "metadata": {
            "tags": []
          },
          "execution_count": 20
        }
      ]
    },
    {
      "cell_type": "markdown",
      "metadata": {
        "id": "B2oEF01n4Qwo",
        "colab_type": "text"
      },
      "source": [
        "### **Mean Years in School**"
      ]
    },
    {
      "cell_type": "code",
      "metadata": {
        "id": "i3U6WMLU8492",
        "colab_type": "code",
        "outputId": "2d8980f1-93d6-41f5-80ad-8c7508d391d8",
        "colab": {
          "base_uri": "https://localhost:8080/",
          "height": 862
        }
      },
      "source": [
        "# Male\n",
        "\n",
        "# Check for missing values\n",
        "df_mean_years_edu_m.isna().sum()"
      ],
      "execution_count": 21,
      "outputs": [
        {
          "output_type": "execute_result",
          "data": {
            "text/plain": [
              "country    0\n",
              "1970       0\n",
              "1971       0\n",
              "1972       0\n",
              "1973       0\n",
              "1974       0\n",
              "1975       0\n",
              "1976       0\n",
              "1977       0\n",
              "1978       0\n",
              "1979       0\n",
              "1980       0\n",
              "1981       0\n",
              "1982       0\n",
              "1983       0\n",
              "1984       0\n",
              "1985       0\n",
              "1986       0\n",
              "1987       0\n",
              "1988       0\n",
              "1989       0\n",
              "1990       0\n",
              "1991       0\n",
              "1992       0\n",
              "1993       0\n",
              "1994       0\n",
              "1995       0\n",
              "1996       0\n",
              "1997       0\n",
              "1998       0\n",
              "1999       0\n",
              "2000       0\n",
              "2001       0\n",
              "2002       0\n",
              "2003       0\n",
              "2004       0\n",
              "2005       0\n",
              "2006       0\n",
              "2007       0\n",
              "2008       0\n",
              "2009       0\n",
              "2010       0\n",
              "2011       0\n",
              "2012       0\n",
              "2013       0\n",
              "2014       0\n",
              "2015       0\n",
              "dtype: int64"
            ]
          },
          "metadata": {
            "tags": []
          },
          "execution_count": 21
        }
      ]
    },
    {
      "cell_type": "code",
      "metadata": {
        "id": "l-u3toMk86lN",
        "colab_type": "code",
        "outputId": "4b0abceb-c0bc-4d00-b6a8-af243a2657dd",
        "colab": {
          "base_uri": "https://localhost:8080/",
          "height": 862
        }
      },
      "source": [
        "# Female\n",
        "\n",
        "# Check for missing values\n",
        "df_mean_years_edu_f.isna().sum()"
      ],
      "execution_count": 22,
      "outputs": [
        {
          "output_type": "execute_result",
          "data": {
            "text/plain": [
              "country    0\n",
              "1970       0\n",
              "1971       0\n",
              "1972       0\n",
              "1973       0\n",
              "1974       0\n",
              "1975       0\n",
              "1976       0\n",
              "1977       0\n",
              "1978       0\n",
              "1979       0\n",
              "1980       0\n",
              "1981       0\n",
              "1982       0\n",
              "1983       0\n",
              "1984       0\n",
              "1985       0\n",
              "1986       0\n",
              "1987       0\n",
              "1988       0\n",
              "1989       0\n",
              "1990       0\n",
              "1991       0\n",
              "1992       0\n",
              "1993       0\n",
              "1994       0\n",
              "1995       0\n",
              "1996       0\n",
              "1997       0\n",
              "1998       0\n",
              "1999       0\n",
              "2000       0\n",
              "2001       0\n",
              "2002       0\n",
              "2003       0\n",
              "2004       0\n",
              "2005       0\n",
              "2006       0\n",
              "2007       0\n",
              "2008       0\n",
              "2009       0\n",
              "2010       0\n",
              "2011       0\n",
              "2012       0\n",
              "2013       0\n",
              "2014       0\n",
              "2015       0\n",
              "dtype: int64"
            ]
          },
          "metadata": {
            "tags": []
          },
          "execution_count": 22
        }
      ]
    },
    {
      "cell_type": "markdown",
      "metadata": {
        "id": "2O8XKCtx4Q0W",
        "colab_type": "text"
      },
      "source": [
        "### **Average Income**"
      ]
    },
    {
      "cell_type": "code",
      "metadata": {
        "id": "LCwF7k3988eV",
        "colab_type": "code",
        "outputId": "5292ebaf-d786-4b42-e5f6-e5553d1f5a8c",
        "colab": {
          "base_uri": "https://localhost:8080/",
          "height": 228
        }
      },
      "source": [
        "# Check for missing values\n",
        "df_avg_income.isna().sum()"
      ],
      "execution_count": 23,
      "outputs": [
        {
          "output_type": "execute_result",
          "data": {
            "text/plain": [
              "country    0\n",
              "1800       0\n",
              "1801       0\n",
              "1802       0\n",
              "1803       0\n",
              "          ..\n",
              "2036       0\n",
              "2037       0\n",
              "2038       0\n",
              "2039       0\n",
              "2040       0\n",
              "Length: 242, dtype: int64"
            ]
          },
          "metadata": {
            "tags": []
          },
          "execution_count": 23
        }
      ]
    },
    {
      "cell_type": "markdown",
      "metadata": {
        "id": "gcph-Zr45KOV",
        "colab_type": "text"
      },
      "source": [
        "### **Employment Rate**"
      ]
    },
    {
      "cell_type": "code",
      "metadata": {
        "id": "2HodTgsE89jf",
        "colab_type": "code",
        "outputId": "c7af20ac-aecf-4fe1-cf1c-bc3508ddd408",
        "colab": {
          "base_uri": "https://localhost:8080/",
          "height": 615
        }
      },
      "source": [
        "# Male\n",
        "\n",
        "# Check for missing values\n",
        "df_employment_rate_m.isna().sum()"
      ],
      "execution_count": 24,
      "outputs": [
        {
          "output_type": "execute_result",
          "data": {
            "text/plain": [
              "country    0\n",
              "1991       0\n",
              "1992       0\n",
              "1993       0\n",
              "1994       0\n",
              "1995       0\n",
              "1996       0\n",
              "1997       0\n",
              "1998       0\n",
              "1999       0\n",
              "2000       0\n",
              "2001       0\n",
              "2002       0\n",
              "2003       0\n",
              "2004       0\n",
              "2005       0\n",
              "2006       0\n",
              "2007       0\n",
              "2008       0\n",
              "2009       0\n",
              "2010       0\n",
              "2011       0\n",
              "2012       0\n",
              "2013       0\n",
              "2014       0\n",
              "2015       0\n",
              "2016       0\n",
              "2017       0\n",
              "2018       0\n",
              "2019       0\n",
              "2020       0\n",
              "2021       0\n",
              "2022       0\n",
              "dtype: int64"
            ]
          },
          "metadata": {
            "tags": []
          },
          "execution_count": 24
        }
      ]
    },
    {
      "cell_type": "code",
      "metadata": {
        "id": "zHtFHYf39MJZ",
        "colab_type": "code",
        "outputId": "5333215e-dae3-4720-dc77-a02b59884e8a",
        "colab": {
          "base_uri": "https://localhost:8080/",
          "height": 615
        }
      },
      "source": [
        "# Female\n",
        "\n",
        "# Check for missing values\n",
        "df_employment_rate_f.isna().sum()"
      ],
      "execution_count": 25,
      "outputs": [
        {
          "output_type": "execute_result",
          "data": {
            "text/plain": [
              "country    0\n",
              "1991       0\n",
              "1992       0\n",
              "1993       0\n",
              "1994       0\n",
              "1995       0\n",
              "1996       0\n",
              "1997       0\n",
              "1998       0\n",
              "1999       0\n",
              "2000       0\n",
              "2001       0\n",
              "2002       0\n",
              "2003       0\n",
              "2004       0\n",
              "2005       0\n",
              "2006       0\n",
              "2007       0\n",
              "2008       0\n",
              "2009       0\n",
              "2010       0\n",
              "2011       0\n",
              "2012       0\n",
              "2013       0\n",
              "2014       0\n",
              "2015       0\n",
              "2016       0\n",
              "2017       0\n",
              "2018       0\n",
              "2019       0\n",
              "2020       0\n",
              "2021       0\n",
              "2022       0\n",
              "dtype: int64"
            ]
          },
          "metadata": {
            "tags": []
          },
          "execution_count": 25
        }
      ]
    },
    {
      "cell_type": "markdown",
      "metadata": {
        "id": "i3ValavW5M8u",
        "colab_type": "text"
      },
      "source": [
        "### **Income Inequality**"
      ]
    },
    {
      "cell_type": "code",
      "metadata": {
        "id": "aubkp2K59NiN",
        "colab_type": "code",
        "outputId": "9a220c00-6efc-4b5b-c101-c09cf214da96",
        "colab": {
          "base_uri": "https://localhost:8080/",
          "height": 228
        }
      },
      "source": [
        "# Check for missing values\n",
        "df_income_inequality.isna().sum()"
      ],
      "execution_count": 26,
      "outputs": [
        {
          "output_type": "execute_result",
          "data": {
            "text/plain": [
              "country    0\n",
              "1800       0\n",
              "1801       0\n",
              "1802       0\n",
              "1803       0\n",
              "          ..\n",
              "2036       0\n",
              "2037       0\n",
              "2038       0\n",
              "2039       0\n",
              "2040       0\n",
              "Length: 242, dtype: int64"
            ]
          },
          "metadata": {
            "tags": []
          },
          "execution_count": 26
        }
      ]
    },
    {
      "cell_type": "markdown",
      "metadata": {
        "id": "m1wPM8zW6NXY",
        "colab_type": "text"
      },
      "source": [
        "### **Child Mortality Rate**"
      ]
    },
    {
      "cell_type": "code",
      "metadata": {
        "id": "U9wHQuix9X2s",
        "colab_type": "code",
        "outputId": "1f84a898-d751-41c6-f5fa-b4db48fbd380",
        "colab": {
          "base_uri": "https://localhost:8080/",
          "height": 228
        }
      },
      "source": [
        "# Check for missing values\n",
        "df_child_mortality.isna().sum()"
      ],
      "execution_count": 27,
      "outputs": [
        {
          "output_type": "execute_result",
          "data": {
            "text/plain": [
              "country     0\n",
              "1800        9\n",
              "1801        9\n",
              "1802        9\n",
              "1803        9\n",
              "           ..\n",
              "2014        0\n",
              "2015        0\n",
              "2016        0\n",
              "2017       10\n",
              "2018       10\n",
              "Length: 220, dtype: int64"
            ]
          },
          "metadata": {
            "tags": []
          },
          "execution_count": 27
        }
      ]
    },
    {
      "cell_type": "code",
      "metadata": {
        "id": "OBjMMKxt--7h",
        "colab_type": "code",
        "outputId": "6089f546-01dc-41a8-823e-c45d13a00168",
        "colab": {
          "base_uri": "https://localhost:8080/",
          "height": 228
        }
      },
      "source": [
        "# Back-fill and Forward-fill missing values in all rows\n",
        "df_child_mortality =  df_child_mortality.bfill(axis=1).ffill(axis=1)\n",
        "\n",
        "# Test for missing values\n",
        "df_child_mortality.isna().sum()"
      ],
      "execution_count": 28,
      "outputs": [
        {
          "output_type": "execute_result",
          "data": {
            "text/plain": [
              "country    0\n",
              "1800       0\n",
              "1801       0\n",
              "1802       0\n",
              "1803       0\n",
              "          ..\n",
              "2014       0\n",
              "2015       0\n",
              "2016       0\n",
              "2017       0\n",
              "2018       0\n",
              "Length: 220, dtype: int64"
            ]
          },
          "metadata": {
            "tags": []
          },
          "execution_count": 28
        }
      ]
    },
    {
      "cell_type": "markdown",
      "metadata": {
        "id": "RJW7v6Kh4Onk",
        "colab_type": "text"
      },
      "source": [
        "### **Adult Mortality Rate**"
      ]
    },
    {
      "cell_type": "code",
      "metadata": {
        "id": "AFmD7oVZ9Y6H",
        "colab_type": "code",
        "outputId": "a52d9389-a765-499b-cdbf-ca4d9a723790",
        "colab": {
          "base_uri": "https://localhost:8080/",
          "height": 1000
        }
      },
      "source": [
        "# Male\n",
        "\n",
        "# Check for missing values\n",
        "df_adult_mortality_m.isna().sum()"
      ],
      "execution_count": 29,
      "outputs": [
        {
          "output_type": "execute_result",
          "data": {
            "text/plain": [
              "country     0\n",
              "1960        6\n",
              "1961        7\n",
              "1962        7\n",
              "1963        7\n",
              "1964        7\n",
              "1965        7\n",
              "1966        7\n",
              "1967        7\n",
              "1968        7\n",
              "1969        7\n",
              "1970        6\n",
              "1971        7\n",
              "1972        7\n",
              "1973        7\n",
              "1974        7\n",
              "1975        7\n",
              "1976        7\n",
              "1977        7\n",
              "1978        7\n",
              "1979        7\n",
              "1980        6\n",
              "1981        7\n",
              "1982        7\n",
              "1983        5\n",
              "1984        5\n",
              "1985        5\n",
              "1986        5\n",
              "1987        5\n",
              "1988        5\n",
              "1989        5\n",
              "1990        1\n",
              "1991        3\n",
              "1992        3\n",
              "1993        3\n",
              "1994        3\n",
              "1995        3\n",
              "1996        3\n",
              "1997        3\n",
              "1998        3\n",
              "1999        3\n",
              "2000        0\n",
              "2001        3\n",
              "2002        3\n",
              "2003        3\n",
              "2004        3\n",
              "2005        3\n",
              "2006        3\n",
              "2007        3\n",
              "2008        3\n",
              "2009        3\n",
              "2010        3\n",
              "2011        4\n",
              "2012        5\n",
              "2013        5\n",
              "2014        7\n",
              "2015       15\n",
              "2016       19\n",
              "2017       33\n",
              "dtype: int64"
            ]
          },
          "metadata": {
            "tags": []
          },
          "execution_count": 29
        }
      ]
    },
    {
      "cell_type": "code",
      "metadata": {
        "id": "LE-pMMNU_Ifb",
        "colab_type": "code",
        "outputId": "498ab805-8263-46fb-d611-ad562d38a84f",
        "colab": {
          "base_uri": "https://localhost:8080/",
          "height": 1000
        }
      },
      "source": [
        "# Back-fill and Forward-fill missing values in all rows\n",
        "df_adult_mortality_m =  df_adult_mortality_m.bfill(axis=1).ffill(axis=1)\n",
        "\n",
        "# Test for missing values\n",
        "df_adult_mortality_m.isna().sum()"
      ],
      "execution_count": 30,
      "outputs": [
        {
          "output_type": "execute_result",
          "data": {
            "text/plain": [
              "country    0\n",
              "1960       0\n",
              "1961       0\n",
              "1962       0\n",
              "1963       0\n",
              "1964       0\n",
              "1965       0\n",
              "1966       0\n",
              "1967       0\n",
              "1968       0\n",
              "1969       0\n",
              "1970       0\n",
              "1971       0\n",
              "1972       0\n",
              "1973       0\n",
              "1974       0\n",
              "1975       0\n",
              "1976       0\n",
              "1977       0\n",
              "1978       0\n",
              "1979       0\n",
              "1980       0\n",
              "1981       0\n",
              "1982       0\n",
              "1983       0\n",
              "1984       0\n",
              "1985       0\n",
              "1986       0\n",
              "1987       0\n",
              "1988       0\n",
              "1989       0\n",
              "1990       0\n",
              "1991       0\n",
              "1992       0\n",
              "1993       0\n",
              "1994       0\n",
              "1995       0\n",
              "1996       0\n",
              "1997       0\n",
              "1998       0\n",
              "1999       0\n",
              "2000       0\n",
              "2001       0\n",
              "2002       0\n",
              "2003       0\n",
              "2004       0\n",
              "2005       0\n",
              "2006       0\n",
              "2007       0\n",
              "2008       0\n",
              "2009       0\n",
              "2010       0\n",
              "2011       0\n",
              "2012       0\n",
              "2013       0\n",
              "2014       0\n",
              "2015       0\n",
              "2016       0\n",
              "2017       0\n",
              "dtype: int64"
            ]
          },
          "metadata": {
            "tags": []
          },
          "execution_count": 30
        }
      ]
    },
    {
      "cell_type": "code",
      "metadata": {
        "id": "UDTEYwq39b6P",
        "colab_type": "code",
        "outputId": "232665d7-ba93-4500-e1b1-6c266775c39b",
        "colab": {
          "base_uri": "https://localhost:8080/",
          "height": 1000
        }
      },
      "source": [
        "# Female\n",
        "\n",
        "# Check for missing values\n",
        "df_adult_mortality_f.isna().sum()"
      ],
      "execution_count": 31,
      "outputs": [
        {
          "output_type": "execute_result",
          "data": {
            "text/plain": [
              "country     0\n",
              "1960        6\n",
              "1961        7\n",
              "1962        7\n",
              "1963        7\n",
              "1964        7\n",
              "1965        7\n",
              "1966        7\n",
              "1967        7\n",
              "1968        7\n",
              "1969        7\n",
              "1970        6\n",
              "1971        7\n",
              "1972        7\n",
              "1973        7\n",
              "1974        7\n",
              "1975        7\n",
              "1976        7\n",
              "1977        7\n",
              "1978        7\n",
              "1979        7\n",
              "1980        6\n",
              "1981        7\n",
              "1982        7\n",
              "1983        5\n",
              "1984        5\n",
              "1985        5\n",
              "1986        5\n",
              "1987        5\n",
              "1988        5\n",
              "1989        5\n",
              "1990        1\n",
              "1991        3\n",
              "1992        3\n",
              "1993        3\n",
              "1994        3\n",
              "1995        3\n",
              "1996        3\n",
              "1997        3\n",
              "1998        3\n",
              "1999        3\n",
              "2000        0\n",
              "2001        3\n",
              "2002        3\n",
              "2003        3\n",
              "2004        3\n",
              "2005        3\n",
              "2006        3\n",
              "2007        3\n",
              "2008        3\n",
              "2009        3\n",
              "2010        3\n",
              "2011        4\n",
              "2012        5\n",
              "2013        5\n",
              "2014        7\n",
              "2015       15\n",
              "2016       19\n",
              "2017       33\n",
              "dtype: int64"
            ]
          },
          "metadata": {
            "tags": []
          },
          "execution_count": 31
        }
      ]
    },
    {
      "cell_type": "code",
      "metadata": {
        "id": "ayuwXk3Z_YOl",
        "colab_type": "code",
        "outputId": "241ac2ec-9dbe-4966-8114-8d9ab48d4bd4",
        "colab": {
          "base_uri": "https://localhost:8080/",
          "height": 1000
        }
      },
      "source": [
        "# Back-fill and Forward-fill missing values in all rows\n",
        "df_adult_mortality_f =  df_adult_mortality_f.bfill(axis=1).ffill(axis=1)\n",
        "\n",
        "# Test for missing values\n",
        "df_adult_mortality_f.isna().sum()"
      ],
      "execution_count": 32,
      "outputs": [
        {
          "output_type": "execute_result",
          "data": {
            "text/plain": [
              "country    0\n",
              "1960       0\n",
              "1961       0\n",
              "1962       0\n",
              "1963       0\n",
              "1964       0\n",
              "1965       0\n",
              "1966       0\n",
              "1967       0\n",
              "1968       0\n",
              "1969       0\n",
              "1970       0\n",
              "1971       0\n",
              "1972       0\n",
              "1973       0\n",
              "1974       0\n",
              "1975       0\n",
              "1976       0\n",
              "1977       0\n",
              "1978       0\n",
              "1979       0\n",
              "1980       0\n",
              "1981       0\n",
              "1982       0\n",
              "1983       0\n",
              "1984       0\n",
              "1985       0\n",
              "1986       0\n",
              "1987       0\n",
              "1988       0\n",
              "1989       0\n",
              "1990       0\n",
              "1991       0\n",
              "1992       0\n",
              "1993       0\n",
              "1994       0\n",
              "1995       0\n",
              "1996       0\n",
              "1997       0\n",
              "1998       0\n",
              "1999       0\n",
              "2000       0\n",
              "2001       0\n",
              "2002       0\n",
              "2003       0\n",
              "2004       0\n",
              "2005       0\n",
              "2006       0\n",
              "2007       0\n",
              "2008       0\n",
              "2009       0\n",
              "2010       0\n",
              "2011       0\n",
              "2012       0\n",
              "2013       0\n",
              "2014       0\n",
              "2015       0\n",
              "2016       0\n",
              "2017       0\n",
              "dtype: int64"
            ]
          },
          "metadata": {
            "tags": []
          },
          "execution_count": 32
        }
      ]
    },
    {
      "cell_type": "markdown",
      "metadata": {
        "id": "tKF30ptn4OzY",
        "colab_type": "text"
      },
      "source": [
        "### **Number of Suicides**"
      ]
    },
    {
      "cell_type": "code",
      "metadata": {
        "id": "BhZPG0fR9al-",
        "colab_type": "code",
        "outputId": "336a454a-a4e2-4721-d51c-e54d1151924a",
        "colab": {
          "base_uri": "https://localhost:8080/",
          "height": 527
        }
      },
      "source": [
        "# Check for missing values\n",
        "df_suicides.isna().sum()"
      ],
      "execution_count": 33,
      "outputs": [
        {
          "output_type": "execute_result",
          "data": {
            "text/plain": [
              "country    0\n",
              "1990       0\n",
              "1991       0\n",
              "1992       0\n",
              "1993       0\n",
              "1994       0\n",
              "1995       0\n",
              "1996       0\n",
              "1997       0\n",
              "1998       0\n",
              "1999       0\n",
              "2000       0\n",
              "2001       0\n",
              "2002       0\n",
              "2003       0\n",
              "2004       0\n",
              "2005       0\n",
              "2006       0\n",
              "2007       0\n",
              "2008       0\n",
              "2009       0\n",
              "2010       0\n",
              "2011       0\n",
              "2012       0\n",
              "2013       0\n",
              "2014       0\n",
              "2015       0\n",
              "2016       0\n",
              "dtype: int64"
            ]
          },
          "metadata": {
            "tags": []
          },
          "execution_count": 33
        }
      ]
    },
    {
      "cell_type": "markdown",
      "metadata": {
        "id": "C3xN5Po-6sZD",
        "colab_type": "text"
      },
      "source": [
        "### **Number of Murders**"
      ]
    },
    {
      "cell_type": "code",
      "metadata": {
        "id": "znSEz4nU9dx5",
        "colab_type": "code",
        "outputId": "db9df9bc-657e-4ad0-a1a0-700ca884d380",
        "colab": {
          "base_uri": "https://localhost:8080/",
          "height": 527
        }
      },
      "source": [
        "# Check for missing values\n",
        "df_murders.isna().sum()"
      ],
      "execution_count": 34,
      "outputs": [
        {
          "output_type": "execute_result",
          "data": {
            "text/plain": [
              "country    0\n",
              "1990       0\n",
              "1991       0\n",
              "1992       0\n",
              "1993       0\n",
              "1994       0\n",
              "1995       0\n",
              "1996       0\n",
              "1997       0\n",
              "1998       0\n",
              "1999       0\n",
              "2000       0\n",
              "2001       0\n",
              "2002       0\n",
              "2003       0\n",
              "2004       0\n",
              "2005       0\n",
              "2006       0\n",
              "2007       0\n",
              "2008       0\n",
              "2009       0\n",
              "2010       0\n",
              "2011       0\n",
              "2012       0\n",
              "2013       0\n",
              "2014       0\n",
              "2015       0\n",
              "2016       0\n",
              "dtype: int64"
            ]
          },
          "metadata": {
            "tags": []
          },
          "execution_count": 34
        }
      ]
    },
    {
      "cell_type": "markdown",
      "metadata": {
        "id": "8q07aEZJ6x2e",
        "colab_type": "text"
      },
      "source": [
        "### **Military Expenditure**"
      ]
    },
    {
      "cell_type": "code",
      "metadata": {
        "id": "KWZ2ASBD9egf",
        "colab_type": "code",
        "outputId": "ce0bf89d-50fb-4a77-de14-a6178c6ad3ad",
        "colab": {
          "base_uri": "https://localhost:8080/",
          "height": 1000
        }
      },
      "source": [
        "# Check for missing values\n",
        "df_military_exp.isna().sum()"
      ],
      "execution_count": 35,
      "outputs": [
        {
          "output_type": "execute_result",
          "data": {
            "text/plain": [
              "country      0\n",
              "1960       107\n",
              "1961        99\n",
              "1962        95\n",
              "1963        93\n",
              "1964        91\n",
              "1965        88\n",
              "1966        87\n",
              "1967        87\n",
              "1968        81\n",
              "1969        81\n",
              "1970        74\n",
              "1971        73\n",
              "1972        72\n",
              "1973        68\n",
              "1974        69\n",
              "1975        68\n",
              "1976        64\n",
              "1977        60\n",
              "1978        62\n",
              "1979        60\n",
              "1980        55\n",
              "1981        53\n",
              "1982        57\n",
              "1983        58\n",
              "1984        54\n",
              "1985        48\n",
              "1986        51\n",
              "1987        46\n",
              "1988        48\n",
              "1989        48\n",
              "1990        47\n",
              "1991        44\n",
              "1992        34\n",
              "1993        21\n",
              "1994        20\n",
              "1995        24\n",
              "1996        22\n",
              "1997        21\n",
              "1998        26\n",
              "1999        24\n",
              "2000        21\n",
              "2001        21\n",
              "2002        18\n",
              "2003        14\n",
              "2004        12\n",
              "2005        11\n",
              "2006        16\n",
              "2007        18\n",
              "2008        12\n",
              "2009        15\n",
              "2010        16\n",
              "2011        19\n",
              "2012        13\n",
              "2013        11\n",
              "2014        10\n",
              "2015        15\n",
              "2016        16\n",
              "2017        18\n",
              "dtype: int64"
            ]
          },
          "metadata": {
            "tags": []
          },
          "execution_count": 35
        }
      ]
    },
    {
      "cell_type": "code",
      "metadata": {
        "id": "5OBiwtlmAoba",
        "colab_type": "code",
        "outputId": "9d9a03a7-4b4b-4a18-9777-39a0c376ca2a",
        "colab": {
          "base_uri": "https://localhost:8080/",
          "height": 369
        }
      },
      "source": [
        "# Only keep years 2000-2017\n",
        "df_military_exp.drop(df_military_exp.loc[:, '1960':'1999'].columns, axis = 1, inplace=True) \n",
        "\n",
        "# Back-fill and Forward-fill missing values in all rows\n",
        "df_military_exp =  df_military_exp.bfill(axis=1).ffill(axis=1)\n",
        "\n",
        "# Test for missing values\n",
        "df_military_exp.isna().sum()"
      ],
      "execution_count": 36,
      "outputs": [
        {
          "output_type": "execute_result",
          "data": {
            "text/plain": [
              "country    0\n",
              "2000       0\n",
              "2001       0\n",
              "2002       0\n",
              "2003       0\n",
              "2004       0\n",
              "2005       0\n",
              "2006       0\n",
              "2007       0\n",
              "2008       0\n",
              "2009       0\n",
              "2010       0\n",
              "2011       0\n",
              "2012       0\n",
              "2013       0\n",
              "2014       0\n",
              "2015       0\n",
              "2016       0\n",
              "2017       0\n",
              "dtype: int64"
            ]
          },
          "metadata": {
            "tags": []
          },
          "execution_count": 36
        }
      ]
    },
    {
      "cell_type": "markdown",
      "metadata": {
        "id": "ZlRtlpL561Ie",
        "colab_type": "text"
      },
      "source": [
        "### **Corruption Perception**"
      ]
    },
    {
      "cell_type": "code",
      "metadata": {
        "id": "X46zUr0y9fSG",
        "colab_type": "code",
        "outputId": "d01bb769-d6c2-44ff-9978-6c1de2d94b21",
        "colab": {
          "base_uri": "https://localhost:8080/",
          "height": 158
        }
      },
      "source": [
        "# Check for missing values\n",
        "df_corruption_perception.isna().sum()"
      ],
      "execution_count": 37,
      "outputs": [
        {
          "output_type": "execute_result",
          "data": {
            "text/plain": [
              "country     0\n",
              "2012        5\n",
              "2013        4\n",
              "2014        6\n",
              "2015       12\n",
              "2016        4\n",
              "2017        0\n",
              "dtype: int64"
            ]
          },
          "metadata": {
            "tags": []
          },
          "execution_count": 37
        }
      ]
    },
    {
      "cell_type": "code",
      "metadata": {
        "id": "Y65TH_LC_qUt",
        "colab_type": "code",
        "outputId": "46e2bd42-5623-4ec4-d626-3a0ff927710f",
        "colab": {
          "base_uri": "https://localhost:8080/",
          "height": 158
        }
      },
      "source": [
        "# Back-fill and Forward-fill missing values in all rows\n",
        "df_corruption_perception =  df_corruption_perception.bfill(axis=1).ffill(axis=1)\n",
        "\n",
        "# Test for missing values\n",
        "df_corruption_perception.isna().sum()"
      ],
      "execution_count": 38,
      "outputs": [
        {
          "output_type": "execute_result",
          "data": {
            "text/plain": [
              "country    0\n",
              "2012       0\n",
              "2013       0\n",
              "2014       0\n",
              "2015       0\n",
              "2016       0\n",
              "2017       0\n",
              "dtype: int64"
            ]
          },
          "metadata": {
            "tags": []
          },
          "execution_count": 38
        }
      ]
    },
    {
      "cell_type": "markdown",
      "metadata": {
        "id": "SAObT-Ra7zby",
        "colab_type": "text"
      },
      "source": [
        "## **Merging Datasets**"
      ]
    },
    {
      "cell_type": "markdown",
      "metadata": {
        "id": "1Jxhr2RUv2d5",
        "colab_type": "text"
      },
      "source": [
        "### **Setup Common Columns**"
      ]
    },
    {
      "cell_type": "code",
      "metadata": {
        "id": "0agpNmU971W-",
        "colab_type": "code",
        "outputId": "a79ffb6c-9e9e-4179-bd8f-f9c789383c27",
        "colab": {
          "base_uri": "https://localhost:8080/",
          "height": 228
        }
      },
      "source": [
        "# Get all countries and regions\n",
        "temp_df = df_country_region[['Country', 'Region']].copy()\n",
        "\n",
        "# Count of unique regions\n",
        "temp_df['Region'].value_counts()"
      ],
      "execution_count": 39,
      "outputs": [
        {
          "output_type": "execute_result",
          "data": {
            "text/plain": [
              "SUB-SAHARAN AFRICA                     51\n",
              "LATIN AMER. & CARIB                    45\n",
              "WESTERN EUROPE                         28\n",
              "ASIA (EX. NEAR EAST)                   28\n",
              "OCEANIA                                21\n",
              "NEAR EAST                              16\n",
              "EASTERN EUROPE                         12\n",
              "C.W. OF IND. STATES                    12\n",
              "NORTHERN AFRICA                         6\n",
              "NORTHERN AMERICA                        5\n",
              "BALTICS                                 3\n",
              "Name: Region, dtype: int64"
            ]
          },
          "metadata": {
            "tags": []
          },
          "execution_count": 39
        }
      ]
    },
    {
      "cell_type": "code",
      "metadata": {
        "id": "bAuEnlq6JDMD",
        "colab_type": "code",
        "colab": {}
      },
      "source": [
        "# Add date column\n",
        "df_final_dates = pd.DataFrame()\n",
        "\n",
        "for date in range(1950, 2020):\n",
        "  new_temp_df = temp_df.copy()\n",
        "  new_temp_df['Date'] = date\n",
        "  df_final_dates = df_final_dates.append(new_temp_df, sort=False)\n",
        "\n",
        "temp_df = df_final_dates.copy()\n",
        "del new_temp_df, df_final_dates"
      ],
      "execution_count": 0,
      "outputs": []
    },
    {
      "cell_type": "code",
      "metadata": {
        "id": "loqPN_tNEOjK",
        "colab_type": "code",
        "colab": {}
      },
      "source": [
        "# Generate 2 rows for each country: Male, Female\n",
        "new_temp_df = temp_df.copy()\n",
        "\n",
        "temp_df['Gender'] = 'Male'\n",
        "new_temp_df['Gender'] = 'Female'\n",
        "\n",
        "temp_df = temp_df.append(new_temp_df)\n",
        "del new_temp_df"
      ],
      "execution_count": 0,
      "outputs": []
    },
    {
      "cell_type": "markdown",
      "metadata": {
        "id": "lZ-8p8Olv6Gf",
        "colab_type": "text"
      },
      "source": [
        "### **Add data columns**"
      ]
    },
    {
      "cell_type": "code",
      "metadata": {
        "id": "6D38CUASCpm1",
        "colab_type": "code",
        "colab": {}
      },
      "source": [
        "# Population Density\n",
        "df_final = pd.DataFrame()\n",
        "\n",
        "for date in range(0, 70):\n",
        "  df_curr_temp = df_pop_density.iloc[:,[0, date+1]].copy()\n",
        "  df_curr_temp.columns = ['Country', 'Population_Density']\n",
        "  df_curr_temp['Date'] = 1950+date\n",
        "  df_final = df_final.append(pd.merge(temp_df[temp_df.Date == 1950+date], df_curr_temp, on=['Country','Date'], how='left'), sort=False)\n",
        "\n",
        "temp_df = df_final.copy()"
      ],
      "execution_count": 0,
      "outputs": []
    },
    {
      "cell_type": "code",
      "metadata": {
        "id": "tIqvJ_T4Cxk2",
        "colab_type": "code",
        "colab": {}
      },
      "source": [
        "# Health Expenditure - Govt\n",
        "df_final = pd.DataFrame()\n",
        "\n",
        "for date in range(0, 11):\n",
        "  df_curr_temp = df_exp_govt.iloc[:,[0, date+1]].copy()\n",
        "  df_curr_temp.columns = ['Country', 'Health_Expenditure_Govt']\n",
        "  df_curr_temp['Date'] = 2000+date\n",
        "  df_final = df_final.append(pd.merge(temp_df[temp_df.Date == 2000+date], df_curr_temp, on=['Country','Date'], how='left'), sort=False)\n",
        "\n",
        "# remaining dates\n",
        "for date in range(1950, 2000):\n",
        "  df_final = df_final.append(temp_df[temp_df.Date == date], sort=False)\n",
        "for date in range(2011, 2020):\n",
        "  df_final = df_final.append(temp_df[temp_df.Date == date], sort=False)\n",
        "\n",
        "temp_df = df_final.copy()"
      ],
      "execution_count": 0,
      "outputs": []
    },
    {
      "cell_type": "code",
      "metadata": {
        "id": "Cmm_5dV2kQuv",
        "colab_type": "code",
        "colab": {}
      },
      "source": [
        "# Health Expenditure - Pvt\n",
        "df_final = pd.DataFrame()\n",
        "\n",
        "for date in range(0, 11):\n",
        "  df_curr_temp = df_exp_pvt.iloc[:,[0, date+1]].copy()\n",
        "  df_curr_temp.columns = ['Country', 'Health_Expenditure_Pvt']\n",
        "  df_curr_temp['Date'] = 2000+date\n",
        "  df_final = df_final.append(pd.merge(temp_df[temp_df.Date == 2000+date], df_curr_temp, on=['Country','Date'], how='left'), sort=False)\n",
        "\n",
        "# remaining dates\n",
        "for date in range(1950, 2000):\n",
        "  df_final = df_final.append(temp_df[temp_df.Date == date], sort=False)\n",
        "for date in range(2011, 2020):\n",
        "  df_final = df_final.append(temp_df[temp_df.Date == date], sort=False)\n",
        "\n",
        "temp_df = df_final.copy()"
      ],
      "execution_count": 0,
      "outputs": []
    },
    {
      "cell_type": "code",
      "metadata": {
        "id": "wpzcdhChkRSa",
        "colab_type": "code",
        "colab": {}
      },
      "source": [
        "# Health Expenditure - Indv\n",
        "df_final = pd.DataFrame()\n",
        "\n",
        "for date in range(0, 11):\n",
        "  df_curr_temp = df_exp_indv.iloc[:,[0, date+1]].copy()\n",
        "  df_curr_temp.columns = ['Country', 'Health_Expenditure_Indv']\n",
        "  df_curr_temp['Date'] = 2000+date\n",
        "  df_final = df_final.append(pd.merge(temp_df[temp_df.Date == 2000+date], df_curr_temp, on=['Country','Date'], how='left'), sort=False)\n",
        "\n",
        "# remaining dates\n",
        "for date in range(1950, 2000):\n",
        "  df_final = df_final.append(temp_df[temp_df.Date == date], sort=False)\n",
        "for date in range(2011, 2020):\n",
        "  df_final = df_final.append(temp_df[temp_df.Date == date], sort=False)\n",
        "\n",
        "temp_df = df_final.copy()"
      ],
      "execution_count": 0,
      "outputs": []
    },
    {
      "cell_type": "code",
      "metadata": {
        "id": "3XHU5ed9lFR2",
        "colab_type": "code",
        "colab": {}
      },
      "source": [
        "# Life Expectancy\n",
        "df_final = pd.DataFrame()\n",
        "\n",
        "for date in range(0, 70):\n",
        "  # Male\n",
        "  df_curr_temp = df_life_expectancy_m.iloc[:,[0, date+1]].copy()\n",
        "  df_curr_temp.columns = ['Country', 'Life_Expectancy']\n",
        "  df_curr_temp['Date'] = 1950+date\n",
        "  df_final = df_final.append(pd.merge(temp_df[(temp_df.Date == 1950+date) & (temp_df.Gender == 'Male')], df_curr_temp, on=['Country','Date'], how='left'), sort=False)\n",
        "\n",
        "  # Female\n",
        "  df_curr_temp = df_life_expectancy_f.iloc[:,[0, date+1]].copy()\n",
        "  df_curr_temp.columns = ['Country', 'Life_Expectancy']\n",
        "  df_curr_temp['Date'] = 1950+date\n",
        "  df_final = df_final.append(pd.merge(temp_df[(temp_df.Date == 1950+date) & (temp_df.Gender == 'Female')], df_curr_temp, on=['Country','Date'], how='left'), sort=False)\n",
        "\n",
        "temp_df = df_final.copy()"
      ],
      "execution_count": 0,
      "outputs": []
    },
    {
      "cell_type": "code",
      "metadata": {
        "id": "xSSR53AXnU8P",
        "colab_type": "code",
        "colab": {}
      },
      "source": [
        "# Education Expenditure\n",
        "df_final = pd.DataFrame()\n",
        "\n",
        "for date in range(0, 46):\n",
        "  df_curr_temp = df_edu_exp.iloc[:,[0, date+1]].copy()\n",
        "  df_curr_temp.columns = ['Country', 'Education_Expenditure']\n",
        "  df_curr_temp['Date'] = 1970+date\n",
        "  df_final = df_final.append(pd.merge(temp_df[temp_df.Date == 1970+date], df_curr_temp, on=['Country','Date'], how='left'), sort=False)\n",
        "\n",
        "# remaining dates\n",
        "for date in range(1950, 1970):\n",
        "  df_final = df_final.append(temp_df[temp_df.Date == date], sort=False)\n",
        "for date in range(2016, 2020):\n",
        "  df_final = df_final.append(temp_df[temp_df.Date == date], sort=False)\n",
        "\n",
        "temp_df = df_final.copy()"
      ],
      "execution_count": 0,
      "outputs": []
    },
    {
      "cell_type": "code",
      "metadata": {
        "id": "2LNMgPZ0nsQI",
        "colab_type": "code",
        "colab": {}
      },
      "source": [
        "# Mean years in school\n",
        "df_final = pd.DataFrame()\n",
        "\n",
        "for date in range(0, 46):\n",
        "  # Male\n",
        "  df_curr_temp = df_mean_years_edu_m.iloc[:,[0, date+1]].copy()\n",
        "  df_curr_temp.columns = ['Country', 'Mean_years_in_school']\n",
        "  df_curr_temp['Date'] = 1970+date\n",
        "  df_final = df_final.append(pd.merge(temp_df[(temp_df.Date == 1970+date) & (temp_df.Gender == 'Male')], df_curr_temp, on=['Country','Date'], how='left'), sort=False)\n",
        "\n",
        "  # Female\n",
        "  df_curr_temp = df_mean_years_edu_f.iloc[:,[0, date+1]].copy()\n",
        "  df_curr_temp.columns = ['Country', 'Mean_years_in_school']\n",
        "  df_curr_temp['Date'] = 1970+date\n",
        "  df_final = df_final.append(pd.merge(temp_df[(temp_df.Date == 1970+date) & (temp_df.Gender == 'Female')], df_curr_temp, on=['Country','Date'], how='left'), sort=False)\n",
        "\n",
        "# remaining dates\n",
        "for date in range(1950, 1970):\n",
        "  df_final = df_final.append(temp_df[temp_df.Date == date], sort=False)\n",
        "for date in range(2016, 2020):\n",
        "  df_final = df_final.append(temp_df[temp_df.Date == date], sort=False)\n",
        "\n",
        "temp_df = df_final.copy()"
      ],
      "execution_count": 0,
      "outputs": []
    },
    {
      "cell_type": "code",
      "metadata": {
        "id": "w-yE_7sepzBv",
        "colab_type": "code",
        "colab": {}
      },
      "source": [
        "# Average Income\n",
        "df_final = pd.DataFrame()\n",
        "\n",
        "for date in range(0, 27):\n",
        "  df_curr_temp = df_avg_income.iloc[:,[0, date+1]].copy()\n",
        "  df_curr_temp.columns = ['Country', 'Average_Income']\n",
        "  df_curr_temp['Date'] = 1991+date\n",
        "  df_final = df_final.append(pd.merge(temp_df[temp_df.Date == 1991+date], df_curr_temp, on=['Country','Date'], how='left'), sort=False)\n",
        "\n",
        "# remaining dates\n",
        "for date in range(1950, 1991):\n",
        "  df_final = df_final.append(temp_df[temp_df.Date == date], sort=False)\n",
        "for date in range(2018, 2020):\n",
        "  df_final = df_final.append(temp_df[temp_df.Date == date], sort=False)\n",
        "\n",
        "temp_df = df_final.copy()"
      ],
      "execution_count": 0,
      "outputs": []
    },
    {
      "cell_type": "code",
      "metadata": {
        "id": "_Rn86OiIqSRX",
        "colab_type": "code",
        "colab": {}
      },
      "source": [
        "# Employment Rate\n",
        "df_final = pd.DataFrame()\n",
        "\n",
        "for date in range(0, 27):\n",
        "  # Male\n",
        "  df_curr_temp = df_employment_rate_m.iloc[:,[0, date+1]].copy()\n",
        "  df_curr_temp.columns = ['Country', 'Employment_Rate']\n",
        "  df_curr_temp['Date'] = 1991+date\n",
        "  df_final = df_final.append(pd.merge(temp_df[(temp_df.Date == 1991+date) & (temp_df.Gender == 'Male')], df_curr_temp, on=['Country','Date'], how='left'), sort=False)\n",
        "\n",
        "  # Female\n",
        "  df_curr_temp = df_employment_rate_f.iloc[:,[0, date+1]].copy()\n",
        "  df_curr_temp.columns = ['Country', 'Employment_Rate']\n",
        "  df_curr_temp['Date'] = 1991+date\n",
        "  df_final = df_final.append(pd.merge(temp_df[(temp_df.Date == 1991+date) & (temp_df.Gender == 'Female')], df_curr_temp, on=['Country','Date'], how='left'), sort=False)\n",
        "\n",
        "# remaining dates\n",
        "for date in range(1950, 1991):\n",
        "  df_final = df_final.append(temp_df[temp_df.Date == date], sort=False)\n",
        "for date in range(2018, 2020):\n",
        "  df_final = df_final.append(temp_df[temp_df.Date == date], sort=False)\n",
        "\n",
        "temp_df = df_final.copy()"
      ],
      "execution_count": 0,
      "outputs": []
    },
    {
      "cell_type": "code",
      "metadata": {
        "id": "zbEOKczRqSaK",
        "colab_type": "code",
        "colab": {}
      },
      "source": [
        "# Income Inequality\n",
        "df_final = pd.DataFrame()\n",
        "\n",
        "for date in range(0, 27):\n",
        "  df_curr_temp = df_income_inequality.iloc[:,[0, date+1]].copy()\n",
        "  df_curr_temp.columns = ['Country', 'Income_Inequality']\n",
        "  df_curr_temp['Date'] = 1991+date\n",
        "  df_final = df_final.append(pd.merge(temp_df[temp_df.Date == 1991+date], df_curr_temp, on=['Country','Date'], how='left'), sort=False)\n",
        "\n",
        "# remaining dates\n",
        "for date in range(1950, 1991):\n",
        "  df_final = df_final.append(temp_df[temp_df.Date == date], sort=False)\n",
        "for date in range(2018, 2020):\n",
        "  df_final = df_final.append(temp_df[temp_df.Date == date], sort=False)\n",
        "\n",
        "temp_df = df_final.copy()"
      ],
      "execution_count": 0,
      "outputs": []
    },
    {
      "cell_type": "code",
      "metadata": {
        "id": "t_HMr8blsr-x",
        "colab_type": "code",
        "colab": {}
      },
      "source": [
        "# Child Mortality Rate\n",
        "df_final = pd.DataFrame()\n",
        "\n",
        "for date in range(0, 27):\n",
        "  df_curr_temp = df_child_mortality.iloc[:,[0, date+1]].copy()\n",
        "  df_curr_temp.columns = ['Country', 'Child_Mortality_Rate']\n",
        "  df_curr_temp['Date'] = 1990+date\n",
        "  df_final = df_final.append(pd.merge(temp_df[temp_df.Date == 1990+date], df_curr_temp, on=['Country','Date'], how='left'), sort=False)\n",
        "\n",
        "# remaining dates\n",
        "for date in range(1950, 1990):\n",
        "  df_final = df_final.append(temp_df[temp_df.Date == date], sort=False)\n",
        "for date in range(2017, 2020):\n",
        "  df_final = df_final.append(temp_df[temp_df.Date == date], sort=False)\n",
        "\n",
        "temp_df = df_final.copy()"
      ],
      "execution_count": 0,
      "outputs": []
    },
    {
      "cell_type": "code",
      "metadata": {
        "id": "xbuW9EwassLf",
        "colab_type": "code",
        "colab": {}
      },
      "source": [
        "# Adult Mortality Rate\n",
        "df_final = pd.DataFrame()\n",
        "\n",
        "for date in range(0, 27):\n",
        "  # Male\n",
        "  df_curr_temp = df_adult_mortality_m.iloc[:,[0, date+1]].copy()\n",
        "  df_curr_temp.columns = ['Country', 'Adult_Mortality_Rate']\n",
        "  df_curr_temp['Date'] = 1990+date\n",
        "  df_final = df_final.append(pd.merge(temp_df[(temp_df.Date == 1990+date) & (temp_df.Gender == 'Male')], df_curr_temp, on=['Country','Date'], how='left'), sort=False)\n",
        "\n",
        "  # Female\n",
        "  df_curr_temp = df_adult_mortality_f.iloc[:,[0, date+1]].copy()\n",
        "  df_curr_temp.columns = ['Country', 'Employment_Rate']\n",
        "  df_curr_temp['Date'] = 1990+date\n",
        "  df_final = df_final.append(pd.merge(temp_df[(temp_df.Date == 1990+date) & (temp_df.Gender == 'Female')], df_curr_temp, on=['Country','Date'], how='left'), sort=False)\n",
        "\n",
        "# remaining dates\n",
        "for date in range(1950, 1990):\n",
        "  df_final = df_final.append(temp_df[temp_df.Date == date], sort=False)\n",
        "for date in range(2017, 2020):\n",
        "  df_final = df_final.append(temp_df[temp_df.Date == date], sort=False)\n",
        "\n",
        "temp_df = df_final.copy()"
      ],
      "execution_count": 0,
      "outputs": []
    },
    {
      "cell_type": "code",
      "metadata": {
        "id": "Cvfqu52Ps22Z",
        "colab_type": "code",
        "colab": {}
      },
      "source": [
        "# Suicides\n",
        "df_final = pd.DataFrame()\n",
        "\n",
        "for date in range(0, 27):\n",
        "  df_curr_temp = df_suicides.iloc[:,[0, date+1]].copy()\n",
        "  df_curr_temp.columns = ['Country', 'Suicides']\n",
        "  df_curr_temp['Date'] = 1990+date\n",
        "  df_final = df_final.append(pd.merge(temp_df[temp_df.Date == 1990+date], df_curr_temp, on=['Country','Date'], how='left'), sort=False)\n",
        "\n",
        "# remaining dates\n",
        "for date in range(1950, 1990):\n",
        "  df_final = df_final.append(temp_df[temp_df.Date == date], sort=False)\n",
        "for date in range(2017, 2020):\n",
        "  df_final = df_final.append(temp_df[temp_df.Date == date], sort=False)\n",
        "\n",
        "temp_df = df_final.copy()"
      ],
      "execution_count": 0,
      "outputs": []
    },
    {
      "cell_type": "code",
      "metadata": {
        "id": "T2mLzE3rs2-m",
        "colab_type": "code",
        "colab": {}
      },
      "source": [
        "# Murders\n",
        "df_final = pd.DataFrame()\n",
        "\n",
        "for date in range(0, 27):\n",
        "  df_curr_temp = df_murders.iloc[:,[0, date+1]].copy()\n",
        "  df_curr_temp.columns = ['Country', 'Murders']\n",
        "  df_curr_temp['Date'] = 1990+date\n",
        "  df_final = df_final.append(pd.merge(temp_df[temp_df.Date == 1990+date], df_curr_temp, on=['Country','Date'], how='left'), sort=False)\n",
        "\n",
        "# remaining dates\n",
        "for date in range(1950, 1990):\n",
        "  df_final = df_final.append(temp_df[temp_df.Date == date], sort=False)\n",
        "for date in range(2017, 2020):\n",
        "  df_final = df_final.append(temp_df[temp_df.Date == date], sort=False)\n",
        "\n",
        "temp_df = df_final.copy()"
      ],
      "execution_count": 0,
      "outputs": []
    },
    {
      "cell_type": "code",
      "metadata": {
        "id": "FWmuzz44t1lq",
        "colab_type": "code",
        "colab": {}
      },
      "source": [
        "# Military Expenditure\n",
        "df_final = pd.DataFrame()\n",
        "\n",
        "for date in range(0, 18):\n",
        "  df_curr_temp = df_military_exp.iloc[:,[0, date+1]].copy()\n",
        "  df_curr_temp.columns = ['Country', 'Military_Expenditure']\n",
        "  df_curr_temp['Date'] = 2000+date\n",
        "  df_final = df_final.append(pd.merge(temp_df[temp_df.Date == 2000+date], df_curr_temp, on=['Country','Date'], how='left'), sort=False)\n",
        "\n",
        "# remaining dates\n",
        "for date in range(1950, 2000):\n",
        "  df_final = df_final.append(temp_df[temp_df.Date == date], sort=False)\n",
        "for date in range(2018, 2020):\n",
        "  df_final = df_final.append(temp_df[temp_df.Date == date], sort=False)\n",
        "\n",
        "temp_df = df_final.copy()"
      ],
      "execution_count": 0,
      "outputs": []
    },
    {
      "cell_type": "code",
      "metadata": {
        "id": "2gBtpLknt14c",
        "colab_type": "code",
        "colab": {}
      },
      "source": [
        "# Corruption Perception\n",
        "df_final = pd.DataFrame()\n",
        "\n",
        "for date in range(0, 6):\n",
        "  df_curr_temp = df_corruption_perception.iloc[:,[0, date+1]].copy()\n",
        "  df_curr_temp.columns = ['Country', 'Corruption_Perception']\n",
        "  df_curr_temp['Date'] = 2012+date\n",
        "  df_final = df_final.append(pd.merge(temp_df[temp_df.Date == 2012+date], df_curr_temp, on=['Country','Date'], how='left'), sort=False)\n",
        "\n",
        "# remaining dates\n",
        "for date in range(1950, 2012):\n",
        "  df_final = df_final.append(temp_df[temp_df.Date == date], sort=False)\n",
        "for date in range(2018, 2020):\n",
        "  df_final = df_final.append(temp_df[temp_df.Date == date], sort=False)\n",
        "\n",
        "temp_df = df_final.copy()"
      ],
      "execution_count": 0,
      "outputs": []
    },
    {
      "cell_type": "code",
      "metadata": {
        "id": "m5ei_S4BCrom",
        "colab_type": "code",
        "colab": {}
      },
      "source": [
        "# Free memory\n",
        "del df_curr_temp, df_final\n",
        "del temp_df['Employment_Rate_x'], temp_df['Employment_Rate_y']"
      ],
      "execution_count": 0,
      "outputs": []
    },
    {
      "cell_type": "code",
      "metadata": {
        "id": "SKdspTUGueW6",
        "colab_type": "code",
        "colab": {}
      },
      "source": [
        "# Reset row indices\n",
        "temp_df.index = (range(len(temp_df)))"
      ],
      "execution_count": 0,
      "outputs": []
    },
    {
      "cell_type": "markdown",
      "metadata": {
        "id": "pLzQeTa3mQyX",
        "colab_type": "text"
      },
      "source": [
        "## **Categorical Variables**"
      ]
    },
    {
      "cell_type": "code",
      "metadata": {
        "id": "mRPsKwOGmcIi",
        "colab_type": "code",
        "outputId": "d09a9437-e3a5-44b5-ae74-4c92dcaaf8ca",
        "colab": {
          "base_uri": "https://localhost:8080/",
          "height": 72
        }
      },
      "source": [
        "# Population Density\n",
        "temp_df['Population_Density_Categories'] = ''\n",
        "for i, row in temp_df.iterrows():\n",
        "  value = temp_df['Population_Density'][i]\n",
        "  new_value = \"51-150\"\n",
        "\n",
        "  if value<50:\n",
        "    new_value = \"0-50\"\n",
        "  elif value>600:\n",
        "    new_value = \">600\"\n",
        "  elif value>300:\n",
        "    new_value = \"301-600\"\n",
        "  elif value>150:\n",
        "    new_value = \"151-300\"\n",
        "\n",
        "  temp_df.set_value(i,'Population_Density_Categories', new_value)"
      ],
      "execution_count": 67,
      "outputs": [
        {
          "output_type": "stream",
          "text": [
            "/usr/local/lib/python3.6/dist-packages/ipykernel_launcher.py:15: FutureWarning: set_value is deprecated and will be removed in a future release. Please use .at[] or .iat[] accessors instead\n",
            "  from ipykernel import kernelapp as app\n"
          ],
          "name": "stderr"
        }
      ]
    },
    {
      "cell_type": "code",
      "metadata": {
        "id": "2m6LI8Ssv3gh",
        "colab_type": "code",
        "colab": {
          "base_uri": "https://localhost:8080/",
          "height": 54
        },
        "outputId": "8577e710-71aa-4615-b499-c89e83799d09"
      },
      "source": [
        "# Health Expenditure - Govt Categories\n",
        "temp_df['Health_Expenditure_Govt_Categories'] = ''\n",
        "for i, row in temp_df.iterrows():\n",
        "  value = temp_df['Health_Expenditure_Govt'][i]\n",
        "\n",
        "  if value>90:\n",
        "    new_value = \"91%-100%\"\n",
        "  elif value>80:\n",
        "    new_value = \"81%-90%\"\n",
        "  elif value>70:\n",
        "    new_value = \"71%-80%\"\n",
        "  elif value>60:\n",
        "    new_value = \"61%-70%\"\n",
        "  elif value>50:\n",
        "    new_value = \"51%-60%\"\n",
        "  elif value>40:\n",
        "    new_value = \"41%-50%\"\n",
        "  elif value>30:\n",
        "    new_value = \"31%-40%\"\n",
        "  elif value>20:\n",
        "    new_value = \"21%-30%\"\n",
        "  elif value>10:\n",
        "    new_value = \"11%-20%\"\n",
        "  else:\n",
        "    new_value = \"0%-10%\"\n",
        "\n",
        "  temp_df.set_value(i,'Health_Expenditure_Govt_Categories', new_value)"
      ],
      "execution_count": 78,
      "outputs": [
        {
          "output_type": "stream",
          "text": [
            "/usr/local/lib/python3.6/dist-packages/ipykernel_launcher.py:26: FutureWarning: set_value is deprecated and will be removed in a future release. Please use .at[] or .iat[] accessors instead\n"
          ],
          "name": "stderr"
        }
      ]
    },
    {
      "cell_type": "code",
      "metadata": {
        "id": "_jp7OIb66IfA",
        "colab_type": "code",
        "colab": {
          "base_uri": "https://localhost:8080/",
          "height": 54
        },
        "outputId": "feda552d-9540-4f5d-833d-48363a51ae23"
      },
      "source": [
        "# Health Expenditure - Pvt Categories\n",
        "temp_df['Health_Expenditure_Pvt_Categories'] = ''\n",
        "for i, row in temp_df.iterrows():\n",
        "  value = temp_df['Health_Expenditure_Pvt'][i]\n",
        "\n",
        "  if value>90:\n",
        "    new_value = \"91%-100%\"\n",
        "  elif value>80:\n",
        "    new_value = \"81%-90%\"\n",
        "  elif value>70:\n",
        "    new_value = \"71%-80%\"\n",
        "  elif value>60:\n",
        "    new_value = \"61%-70%\"\n",
        "  elif value>50:\n",
        "    new_value = \"51%-60%\"\n",
        "  elif value>40:\n",
        "    new_value = \"41%-50%\"\n",
        "  elif value>30:\n",
        "    new_value = \"31%-40%\"\n",
        "  elif value>20:\n",
        "    new_value = \"21%-30%\"\n",
        "  elif value>10:\n",
        "    new_value = \"11%-20%\"\n",
        "  else:\n",
        "    new_value = \"0%-10%\"\n",
        "\n",
        "  temp_df.set_value(i,'Health_Expenditure_Pvt_Categories', new_value)"
      ],
      "execution_count": 79,
      "outputs": [
        {
          "output_type": "stream",
          "text": [
            "/usr/local/lib/python3.6/dist-packages/ipykernel_launcher.py:26: FutureWarning: set_value is deprecated and will be removed in a future release. Please use .at[] or .iat[] accessors instead\n"
          ],
          "name": "stderr"
        }
      ]
    },
    {
      "cell_type": "code",
      "metadata": {
        "id": "8r0wnUdd6I-Q",
        "colab_type": "code",
        "colab": {
          "base_uri": "https://localhost:8080/",
          "height": 54
        },
        "outputId": "00ebe43d-2e15-4ea7-ff2d-3464a8f52fd0"
      },
      "source": [
        "# Health Expenditure - Indv Categories\n",
        "temp_df['Health_Expenditure_Indv_Categories'] = ''\n",
        "for i, row in temp_df.iterrows():\n",
        "  value = temp_df['Health_Expenditure_Indv'][i]\n",
        "\n",
        "  if value>90:\n",
        "    new_value = \"91%-100%\"\n",
        "  elif value>80:\n",
        "    new_value = \"81%-90%\"\n",
        "  elif value>70:\n",
        "    new_value = \"71%-80%\"\n",
        "  elif value>60:\n",
        "    new_value = \"61%-70%\"\n",
        "  elif value>50:\n",
        "    new_value = \"51%-60%\"\n",
        "  elif value>40:\n",
        "    new_value = \"41%-50%\"\n",
        "  elif value>30:\n",
        "    new_value = \"31%-40%\"\n",
        "  elif value>20:\n",
        "    new_value = \"21%-30%\"\n",
        "  elif value>10:\n",
        "    new_value = \"11%-20%\"\n",
        "  else:\n",
        "    new_value = \"0%-10%\"\n",
        "\n",
        "  temp_df.set_value(i,'Health_Expenditure_Indv_Categories', new_value)"
      ],
      "execution_count": 80,
      "outputs": [
        {
          "output_type": "stream",
          "text": [
            "/usr/local/lib/python3.6/dist-packages/ipykernel_launcher.py:26: FutureWarning: set_value is deprecated and will be removed in a future release. Please use .at[] or .iat[] accessors instead\n"
          ],
          "name": "stderr"
        }
      ]
    },
    {
      "cell_type": "code",
      "metadata": {
        "id": "L-vXhjWo71-u",
        "colab_type": "code",
        "colab": {
          "base_uri": "https://localhost:8080/",
          "height": 54
        },
        "outputId": "c28c8dbc-7ae2-4821-b175-6cfed77b96f7"
      },
      "source": [
        "# Employment Rate\n",
        "temp_df['Employment_Rate_Categories'] = ''\n",
        "for i, row in temp_df.iterrows():\n",
        "  value = temp_df['Employment_Rate'][i]\n",
        "\n",
        "  if value>90:\n",
        "    new_value = \"91-100\"\n",
        "  elif value>80:\n",
        "    new_value = \"81-90\"\n",
        "  elif value>70:\n",
        "    new_value = \"71-80\"\n",
        "  elif value>60:\n",
        "    new_value = \"61-70\"\n",
        "  elif value>50:\n",
        "    new_value = \"51-60\"\n",
        "  elif value>40:\n",
        "    new_value = \"41-50\"\n",
        "  elif value>30:\n",
        "    new_value = \"31-40\"\n",
        "  elif value>20:\n",
        "    new_value = \"21-30\"\n",
        "  elif value>10:\n",
        "    new_value = \"11-20\"\n",
        "  else:\n",
        "    new_value = \"0-10\"\n",
        "\n",
        "  temp_df.set_value(i,'Employment_Rate_Categories', new_value)"
      ],
      "execution_count": 81,
      "outputs": [
        {
          "output_type": "stream",
          "text": [
            "/usr/local/lib/python3.6/dist-packages/ipykernel_launcher.py:26: FutureWarning: set_value is deprecated and will be removed in a future release. Please use .at[] or .iat[] accessors instead\n"
          ],
          "name": "stderr"
        }
      ]
    },
    {
      "cell_type": "code",
      "metadata": {
        "id": "giePEuiS67mc",
        "colab_type": "code",
        "colab": {
          "base_uri": "https://localhost:8080/",
          "height": 54
        },
        "outputId": "df1f0d37-029b-4a08-870d-ac2e5fe3c65e"
      },
      "source": [
        "# Income_Inequality\n",
        "temp_df['Income_Inequality_Categories'] = ''\n",
        "for i, row in temp_df.iterrows():\n",
        "  value = temp_df['Income_Inequality'][i]\n",
        "\n",
        "  if value>90:\n",
        "    new_value = \"91-100\"\n",
        "  elif value>80:\n",
        "    new_value = \"81-90\"\n",
        "  elif value>70:\n",
        "    new_value = \"71-80\"\n",
        "  elif value>60:\n",
        "    new_value = \"61-70\"\n",
        "  elif value>50:\n",
        "    new_value = \"51-60\"\n",
        "  elif value>40:\n",
        "    new_value = \"41-50\"\n",
        "  elif value>30:\n",
        "    new_value = \"31-40\"\n",
        "  elif value>20:\n",
        "    new_value = \"21-30\"\n",
        "  elif value>10:\n",
        "    new_value = \"11-20\"\n",
        "  else:\n",
        "    new_value = \"0-10\"\n",
        "\n",
        "  temp_df.set_value(i,'Income_Inequality_Categories', new_value)"
      ],
      "execution_count": 82,
      "outputs": [
        {
          "output_type": "stream",
          "text": [
            "/usr/local/lib/python3.6/dist-packages/ipykernel_launcher.py:26: FutureWarning: set_value is deprecated and will be removed in a future release. Please use .at[] or .iat[] accessors instead\n"
          ],
          "name": "stderr"
        }
      ]
    },
    {
      "cell_type": "code",
      "metadata": {
        "id": "6r0_e3Lq8fO3",
        "colab_type": "code",
        "colab": {
          "base_uri": "https://localhost:8080/",
          "height": 54
        },
        "outputId": "ee480222-2aef-4de9-c3c3-a7f2b4569bde"
      },
      "source": [
        "# Corruption Perception\n",
        "temp_df['Corruption_Perception_Categories'] = ''\n",
        "for i, row in temp_df.iterrows():\n",
        "  value = temp_df['Corruption_Perception'][i]\n",
        "\n",
        "  if value>90:\n",
        "    new_value = \"91-100\"\n",
        "  elif value>80:\n",
        "    new_value = \"81-90\"\n",
        "  elif value>70:\n",
        "    new_value = \"71-80\"\n",
        "  elif value>60:\n",
        "    new_value = \"61-70\"\n",
        "  elif value>50:\n",
        "    new_value = \"51-60\"\n",
        "  elif value>40:\n",
        "    new_value = \"41-50\"\n",
        "  elif value>30:\n",
        "    new_value = \"31-40\"\n",
        "  elif value>20:\n",
        "    new_value = \"21-30\"\n",
        "  elif value>10:\n",
        "    new_value = \"11-20\"\n",
        "  else:\n",
        "    new_value = \"0-10\"\n",
        "\n",
        "  temp_df.set_value(i,'Corruption_Perception_Categories', new_value)"
      ],
      "execution_count": 83,
      "outputs": [
        {
          "output_type": "stream",
          "text": [
            "/usr/local/lib/python3.6/dist-packages/ipykernel_launcher.py:26: FutureWarning: set_value is deprecated and will be removed in a future release. Please use .at[] or .iat[] accessors instead\n"
          ],
          "name": "stderr"
        }
      ]
    },
    {
      "cell_type": "markdown",
      "metadata": {
        "id": "Vxg6P55Jmovq",
        "colab_type": "text"
      },
      "source": [
        "## **Other**"
      ]
    },
    {
      "cell_type": "markdown",
      "metadata": {
        "id": "XESiVZmtu4F1",
        "colab_type": "text"
      },
      "source": [
        "### **Testing Codes**"
      ]
    },
    {
      "cell_type": "code",
      "metadata": {
        "colab_type": "code",
        "id": "LO4dFLvBlB1i",
        "colab": {}
      },
      "source": [
        "temp_df.loc[temp_df['Country']=='Afghanistan']"
      ],
      "execution_count": 0,
      "outputs": []
    },
    {
      "cell_type": "code",
      "metadata": {
        "id": "hks1J0NTCY3_",
        "colab_type": "code",
        "colab": {}
      },
      "source": [
        "print(temp_df.shape)\n",
        "print(temp_df.dtypes)\n",
        "print(temp_df.isna().sum())"
      ],
      "execution_count": 0,
      "outputs": []
    },
    {
      "cell_type": "code",
      "metadata": {
        "id": "vj1ChWsJvnYS",
        "colab_type": "code",
        "outputId": "8bb88955-a340-49b7-9e3f-4b5ae1102bce",
        "colab": {
          "base_uri": "https://localhost:8080/",
          "height": 659
        }
      },
      "source": [
        "temp_df"
      ],
      "execution_count": 84,
      "outputs": [
        {
          "output_type": "execute_result",
          "data": {
            "text/html": [
              "<div>\n",
              "<style scoped>\n",
              "    .dataframe tbody tr th:only-of-type {\n",
              "        vertical-align: middle;\n",
              "    }\n",
              "\n",
              "    .dataframe tbody tr th {\n",
              "        vertical-align: top;\n",
              "    }\n",
              "\n",
              "    .dataframe thead th {\n",
              "        text-align: right;\n",
              "    }\n",
              "</style>\n",
              "<table border=\"1\" class=\"dataframe\">\n",
              "  <thead>\n",
              "    <tr style=\"text-align: right;\">\n",
              "      <th></th>\n",
              "      <th>Country</th>\n",
              "      <th>Region</th>\n",
              "      <th>Date</th>\n",
              "      <th>Gender</th>\n",
              "      <th>Population_Density</th>\n",
              "      <th>Health_Expenditure_Govt</th>\n",
              "      <th>Health_Expenditure_Pvt</th>\n",
              "      <th>Health_Expenditure_Indv</th>\n",
              "      <th>Life_Expectancy</th>\n",
              "      <th>Education_Expenditure</th>\n",
              "      <th>Mean_years_in_school</th>\n",
              "      <th>Average_Income</th>\n",
              "      <th>Employment_Rate</th>\n",
              "      <th>Income_Inequality</th>\n",
              "      <th>Child_Mortality_Rate</th>\n",
              "      <th>Adult_Mortality_Rate</th>\n",
              "      <th>Suicides</th>\n",
              "      <th>Murders</th>\n",
              "      <th>Military_Expenditure</th>\n",
              "      <th>Corruption_Perception</th>\n",
              "      <th>Population_Density_Categories</th>\n",
              "      <th>Health_Expenditure_Govt_Categories</th>\n",
              "      <th>Health_Expenditure_Pvt_Categories</th>\n",
              "      <th>Health_Expenditure_Indv_Categories</th>\n",
              "      <th>Income_Inequality_Categories</th>\n",
              "      <th>Employment_Rate_Categories</th>\n",
              "      <th>Corruption_Perception_Categories</th>\n",
              "    </tr>\n",
              "  </thead>\n",
              "  <tbody>\n",
              "    <tr>\n",
              "      <th>0</th>\n",
              "      <td>Afghanistan</td>\n",
              "      <td>ASIA (EX. NEAR EAST)</td>\n",
              "      <td>2012</td>\n",
              "      <td>Male</td>\n",
              "      <td>47.0</td>\n",
              "      <td>NaN</td>\n",
              "      <td>NaN</td>\n",
              "      <td>NaN</td>\n",
              "      <td>60.9</td>\n",
              "      <td>2.14</td>\n",
              "      <td>4.94</td>\n",
              "      <td>607.0</td>\n",
              "      <td>80.4</td>\n",
              "      <td>30.5</td>\n",
              "      <td>471.0</td>\n",
              "      <td>469.0</td>\n",
              "      <td>1870.00</td>\n",
              "      <td>5190.00</td>\n",
              "      <td>1.18</td>\n",
              "      <td>8.0</td>\n",
              "      <td>0-50</td>\n",
              "      <td>0%-10%</td>\n",
              "      <td>0%-10%</td>\n",
              "      <td>0%-10%</td>\n",
              "      <td>31-40</td>\n",
              "      <td>81-90</td>\n",
              "      <td>0-10</td>\n",
              "    </tr>\n",
              "    <tr>\n",
              "      <th>1</th>\n",
              "      <td>Albania</td>\n",
              "      <td>EASTERN EUROPE</td>\n",
              "      <td>2012</td>\n",
              "      <td>Male</td>\n",
              "      <td>107.0</td>\n",
              "      <td>NaN</td>\n",
              "      <td>NaN</td>\n",
              "      <td>NaN</td>\n",
              "      <td>75.3</td>\n",
              "      <td>3.16</td>\n",
              "      <td>10.70</td>\n",
              "      <td>671.0</td>\n",
              "      <td>56.9</td>\n",
              "      <td>38.9</td>\n",
              "      <td>375.0</td>\n",
              "      <td>141.0</td>\n",
              "      <td>188.00</td>\n",
              "      <td>68.50</td>\n",
              "      <td>1.49</td>\n",
              "      <td>33.0</td>\n",
              "      <td>51-150</td>\n",
              "      <td>0%-10%</td>\n",
              "      <td>0%-10%</td>\n",
              "      <td>0%-10%</td>\n",
              "      <td>31-40</td>\n",
              "      <td>51-60</td>\n",
              "      <td>31-40</td>\n",
              "    </tr>\n",
              "    <tr>\n",
              "      <th>2</th>\n",
              "      <td>Algeria</td>\n",
              "      <td>NORTHERN AFRICA</td>\n",
              "      <td>2012</td>\n",
              "      <td>Male</td>\n",
              "      <td>15.8</td>\n",
              "      <td>NaN</td>\n",
              "      <td>NaN</td>\n",
              "      <td>NaN</td>\n",
              "      <td>74.0</td>\n",
              "      <td>4.47</td>\n",
              "      <td>8.99</td>\n",
              "      <td>743.0</td>\n",
              "      <td>62.3</td>\n",
              "      <td>56.6</td>\n",
              "      <td>460.0</td>\n",
              "      <td>247.0</td>\n",
              "      <td>1340.00</td>\n",
              "      <td>457.00</td>\n",
              "      <td>4.46</td>\n",
              "      <td>34.0</td>\n",
              "      <td>0-50</td>\n",
              "      <td>0%-10%</td>\n",
              "      <td>0%-10%</td>\n",
              "      <td>0%-10%</td>\n",
              "      <td>51-60</td>\n",
              "      <td>61-70</td>\n",
              "      <td>31-40</td>\n",
              "    </tr>\n",
              "    <tr>\n",
              "      <th>3</th>\n",
              "      <td>American Samoa</td>\n",
              "      <td>OCEANIA</td>\n",
              "      <td>2012</td>\n",
              "      <td>Male</td>\n",
              "      <td>NaN</td>\n",
              "      <td>NaN</td>\n",
              "      <td>NaN</td>\n",
              "      <td>NaN</td>\n",
              "      <td>NaN</td>\n",
              "      <td>NaN</td>\n",
              "      <td>NaN</td>\n",
              "      <td>NaN</td>\n",
              "      <td>NaN</td>\n",
              "      <td>NaN</td>\n",
              "      <td>NaN</td>\n",
              "      <td>NaN</td>\n",
              "      <td>NaN</td>\n",
              "      <td>NaN</td>\n",
              "      <td>NaN</td>\n",
              "      <td>NaN</td>\n",
              "      <td>51-150</td>\n",
              "      <td>0%-10%</td>\n",
              "      <td>0%-10%</td>\n",
              "      <td>0%-10%</td>\n",
              "      <td>0-10</td>\n",
              "      <td>0-10</td>\n",
              "      <td>0-10</td>\n",
              "    </tr>\n",
              "    <tr>\n",
              "      <th>4</th>\n",
              "      <td>Andorra</td>\n",
              "      <td>WESTERN EUROPE</td>\n",
              "      <td>2012</td>\n",
              "      <td>Male</td>\n",
              "      <td>175.0</td>\n",
              "      <td>NaN</td>\n",
              "      <td>NaN</td>\n",
              "      <td>NaN</td>\n",
              "      <td>NaN</td>\n",
              "      <td>2.78</td>\n",
              "      <td>14.60</td>\n",
              "      <td>1260.0</td>\n",
              "      <td>NaN</td>\n",
              "      <td>40.0</td>\n",
              "      <td>12.9</td>\n",
              "      <td>NaN</td>\n",
              "      <td>7.92</td>\n",
              "      <td>0.54</td>\n",
              "      <td>NaN</td>\n",
              "      <td>NaN</td>\n",
              "      <td>151-300</td>\n",
              "      <td>0%-10%</td>\n",
              "      <td>0%-10%</td>\n",
              "      <td>0%-10%</td>\n",
              "      <td>31-40</td>\n",
              "      <td>0-10</td>\n",
              "      <td>0-10</td>\n",
              "    </tr>\n",
              "    <tr>\n",
              "      <th>...</th>\n",
              "      <td>...</td>\n",
              "      <td>...</td>\n",
              "      <td>...</td>\n",
              "      <td>...</td>\n",
              "      <td>...</td>\n",
              "      <td>...</td>\n",
              "      <td>...</td>\n",
              "      <td>...</td>\n",
              "      <td>...</td>\n",
              "      <td>...</td>\n",
              "      <td>...</td>\n",
              "      <td>...</td>\n",
              "      <td>...</td>\n",
              "      <td>...</td>\n",
              "      <td>...</td>\n",
              "      <td>...</td>\n",
              "      <td>...</td>\n",
              "      <td>...</td>\n",
              "      <td>...</td>\n",
              "      <td>...</td>\n",
              "      <td>...</td>\n",
              "      <td>...</td>\n",
              "      <td>...</td>\n",
              "      <td>...</td>\n",
              "      <td>...</td>\n",
              "      <td>...</td>\n",
              "      <td>...</td>\n",
              "    </tr>\n",
              "    <tr>\n",
              "      <th>31775</th>\n",
              "      <td>West Bank</td>\n",
              "      <td>NEAR EAST</td>\n",
              "      <td>2019</td>\n",
              "      <td>Female</td>\n",
              "      <td>NaN</td>\n",
              "      <td>NaN</td>\n",
              "      <td>NaN</td>\n",
              "      <td>NaN</td>\n",
              "      <td>NaN</td>\n",
              "      <td>NaN</td>\n",
              "      <td>NaN</td>\n",
              "      <td>NaN</td>\n",
              "      <td>NaN</td>\n",
              "      <td>NaN</td>\n",
              "      <td>NaN</td>\n",
              "      <td>NaN</td>\n",
              "      <td>NaN</td>\n",
              "      <td>NaN</td>\n",
              "      <td>NaN</td>\n",
              "      <td>NaN</td>\n",
              "      <td>51-150</td>\n",
              "      <td>0%-10%</td>\n",
              "      <td>0%-10%</td>\n",
              "      <td>0%-10%</td>\n",
              "      <td>0-10</td>\n",
              "      <td>0-10</td>\n",
              "      <td>0-10</td>\n",
              "    </tr>\n",
              "    <tr>\n",
              "      <th>31776</th>\n",
              "      <td>Western Sahara</td>\n",
              "      <td>NORTHERN AFRICA</td>\n",
              "      <td>2019</td>\n",
              "      <td>Female</td>\n",
              "      <td>NaN</td>\n",
              "      <td>NaN</td>\n",
              "      <td>NaN</td>\n",
              "      <td>NaN</td>\n",
              "      <td>NaN</td>\n",
              "      <td>NaN</td>\n",
              "      <td>NaN</td>\n",
              "      <td>NaN</td>\n",
              "      <td>NaN</td>\n",
              "      <td>NaN</td>\n",
              "      <td>NaN</td>\n",
              "      <td>NaN</td>\n",
              "      <td>NaN</td>\n",
              "      <td>NaN</td>\n",
              "      <td>NaN</td>\n",
              "      <td>NaN</td>\n",
              "      <td>51-150</td>\n",
              "      <td>0%-10%</td>\n",
              "      <td>0%-10%</td>\n",
              "      <td>0%-10%</td>\n",
              "      <td>0-10</td>\n",
              "      <td>0-10</td>\n",
              "      <td>0-10</td>\n",
              "    </tr>\n",
              "    <tr>\n",
              "      <th>31777</th>\n",
              "      <td>Yemen</td>\n",
              "      <td>NEAR EAST</td>\n",
              "      <td>2019</td>\n",
              "      <td>Female</td>\n",
              "      <td>56.0</td>\n",
              "      <td>NaN</td>\n",
              "      <td>NaN</td>\n",
              "      <td>NaN</td>\n",
              "      <td>67.1</td>\n",
              "      <td>NaN</td>\n",
              "      <td>NaN</td>\n",
              "      <td>NaN</td>\n",
              "      <td>NaN</td>\n",
              "      <td>NaN</td>\n",
              "      <td>NaN</td>\n",
              "      <td>NaN</td>\n",
              "      <td>NaN</td>\n",
              "      <td>NaN</td>\n",
              "      <td>NaN</td>\n",
              "      <td>NaN</td>\n",
              "      <td>51-150</td>\n",
              "      <td>0%-10%</td>\n",
              "      <td>0%-10%</td>\n",
              "      <td>0%-10%</td>\n",
              "      <td>0-10</td>\n",
              "      <td>0-10</td>\n",
              "      <td>0-10</td>\n",
              "    </tr>\n",
              "    <tr>\n",
              "      <th>31778</th>\n",
              "      <td>Zambia</td>\n",
              "      <td>SUB-SAHARAN AFRICA</td>\n",
              "      <td>2019</td>\n",
              "      <td>Female</td>\n",
              "      <td>24.4</td>\n",
              "      <td>NaN</td>\n",
              "      <td>NaN</td>\n",
              "      <td>NaN</td>\n",
              "      <td>65.7</td>\n",
              "      <td>NaN</td>\n",
              "      <td>NaN</td>\n",
              "      <td>NaN</td>\n",
              "      <td>NaN</td>\n",
              "      <td>NaN</td>\n",
              "      <td>NaN</td>\n",
              "      <td>NaN</td>\n",
              "      <td>NaN</td>\n",
              "      <td>NaN</td>\n",
              "      <td>NaN</td>\n",
              "      <td>NaN</td>\n",
              "      <td>0-50</td>\n",
              "      <td>0%-10%</td>\n",
              "      <td>0%-10%</td>\n",
              "      <td>0%-10%</td>\n",
              "      <td>0-10</td>\n",
              "      <td>0-10</td>\n",
              "      <td>0-10</td>\n",
              "    </tr>\n",
              "    <tr>\n",
              "      <th>31779</th>\n",
              "      <td>Zimbabwe</td>\n",
              "      <td>SUB-SAHARAN AFRICA</td>\n",
              "      <td>2019</td>\n",
              "      <td>Female</td>\n",
              "      <td>44.7</td>\n",
              "      <td>NaN</td>\n",
              "      <td>NaN</td>\n",
              "      <td>NaN</td>\n",
              "      <td>64.2</td>\n",
              "      <td>NaN</td>\n",
              "      <td>NaN</td>\n",
              "      <td>NaN</td>\n",
              "      <td>NaN</td>\n",
              "      <td>NaN</td>\n",
              "      <td>NaN</td>\n",
              "      <td>NaN</td>\n",
              "      <td>NaN</td>\n",
              "      <td>NaN</td>\n",
              "      <td>NaN</td>\n",
              "      <td>NaN</td>\n",
              "      <td>0-50</td>\n",
              "      <td>0%-10%</td>\n",
              "      <td>0%-10%</td>\n",
              "      <td>0%-10%</td>\n",
              "      <td>0-10</td>\n",
              "      <td>0-10</td>\n",
              "      <td>0-10</td>\n",
              "    </tr>\n",
              "  </tbody>\n",
              "</table>\n",
              "<p>31780 rows × 27 columns</p>\n",
              "</div>"
            ],
            "text/plain": [
              "              Country  ... Corruption_Perception_Categories\n",
              "0         Afghanistan  ...                             0-10\n",
              "1             Albania  ...                            31-40\n",
              "2             Algeria  ...                            31-40\n",
              "3      American Samoa  ...                             0-10\n",
              "4             Andorra  ...                             0-10\n",
              "...               ...  ...                              ...\n",
              "31775       West Bank  ...                             0-10\n",
              "31776  Western Sahara  ...                             0-10\n",
              "31777           Yemen  ...                             0-10\n",
              "31778          Zambia  ...                             0-10\n",
              "31779        Zimbabwe  ...                             0-10\n",
              "\n",
              "[31780 rows x 27 columns]"
            ]
          },
          "metadata": {
            "tags": []
          },
          "execution_count": 84
        }
      ]
    },
    {
      "cell_type": "code",
      "metadata": {
        "id": "v3uwZs-hvoI-",
        "colab_type": "code",
        "colab": {}
      },
      "source": [
        "df"
      ],
      "execution_count": 0,
      "outputs": []
    },
    {
      "cell_type": "markdown",
      "metadata": {
        "id": "5Zw915hhOJAX",
        "colab_type": "text"
      },
      "source": [
        "### **Copy & Save**"
      ]
    },
    {
      "cell_type": "code",
      "metadata": {
        "id": "p_ZQrjHAvSL5",
        "colab_type": "code",
        "colab": {}
      },
      "source": [
        "df = temp_df.copy()"
      ],
      "execution_count": 0,
      "outputs": []
    },
    {
      "cell_type": "code",
      "metadata": {
        "id": "qiABBe0NvS3v",
        "colab_type": "code",
        "colab": {}
      },
      "source": [
        "temp_df = df.copy()"
      ],
      "execution_count": 0,
      "outputs": []
    },
    {
      "cell_type": "code",
      "metadata": {
        "id": "rDiZdTwLIz0b",
        "colab_type": "code",
        "colab": {}
      },
      "source": [
        "# Save to CSV\n",
        "df.to_csv(\"/content/drive/My Drive/Coursework/Spring 2020/CSE 564 - Visualization/Assignments/Lab 1/Datasets/Final_Dataset.csv\", index=False)"
      ],
      "execution_count": 0,
      "outputs": []
    }
  ]
}